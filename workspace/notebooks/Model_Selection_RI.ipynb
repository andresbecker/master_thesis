{
 "cells": [
  {
   "cell_type": "code",
   "execution_count": 1,
   "metadata": {},
   "outputs": [],
   "source": [
    "import pandas as pd\n",
    "pd.options.display.max_columns = None\n",
    "import plotly.express as px\n",
    "import os\n",
    "import numpy as np"
   ]
  },
  {
   "cell_type": "code",
   "execution_count": 2,
   "metadata": {},
   "outputs": [
    {
     "name": "stdout",
     "output_type": "stream",
     "text": [
      "XC_RI_test2.csv file loaded correctly\n",
      "BL_RI_test1.csv file loaded correctly\n",
      "XC_RI.csv file loaded correctly\n",
      "RN_RI_test2.csv file loaded correctly\n",
      "XC_RI_test1.csv file loaded correctly\n",
      "BL_RI_test3.csv file loaded correctly\n",
      "BL_RI.csv file loaded correctly\n",
      "RN_RI_test3.csv file loaded correctly\n",
      "RN_RI_test1.csv file loaded correctly\n",
      "XC_RI_test3.csv file loaded correctly\n",
      "RN_RI.csv file loaded correctly\n",
      "BL_RI_test2.csv file loaded correctly\n"
     ]
    }
   ],
   "source": [
    "# Init DF\n",
    "model_metrics_df = pd.DataFrame([])\n",
    "\n",
    "# Load files with new metrics\n",
    "metrics_path = '/home/hhughes/Documents/Master_Thesis/Project/workspace/models/Model_Metrics_RI'\n",
    "model_metrics = os.listdir(metrics_path)\n",
    "for mm in model_metrics:\n",
    "    with open(os.path.join(metrics_path, mm), 'r') as file:\n",
    "        try:\n",
    "            temp_df = pd.read_csv(file)\n",
    "            temp_df['Parameter_file'] = [pf.split(\"/\")[-1].split(\".\")[0] for pf in temp_df.Parameters_file_path.values]\n",
    "            print(mm, 'file loaded correctly')\n",
    "        except:\n",
    "            print('\\nERROR!!!! Failed to load file: ',mm,'---------------------------------!\\n')\n",
    "        model_metrics_df = pd.concat((model_metrics_df, temp_df), ignore_index=True)\n",
    "        \n",
    "model_metrics_df.Bias = model_metrics_df.Bias.abs()\n",
    "# Set correct order of columns\n",
    "columns = temp_df.columns\n",
    "model_metrics_df = model_metrics_df[columns]"
   ]
  },
  {
   "cell_type": "code",
   "execution_count": 3,
   "metadata": {},
   "outputs": [
    {
     "data": {
      "text/html": [
       "<div>\n",
       "<style scoped>\n",
       "    .dataframe tbody tr th:only-of-type {\n",
       "        vertical-align: middle;\n",
       "    }\n",
       "\n",
       "    .dataframe tbody tr th {\n",
       "        vertical-align: top;\n",
       "    }\n",
       "\n",
       "    .dataframe thead th {\n",
       "        text-align: right;\n",
       "    }\n",
       "</style>\n",
       "<table border=\"1\" class=\"dataframe\">\n",
       "  <thead>\n",
       "    <tr style=\"text-align: right;\">\n",
       "      <th></th>\n",
       "      <th>Model</th>\n",
       "      <th>Parameter_file</th>\n",
       "      <th>Loss</th>\n",
       "      <th>Epoch</th>\n",
       "      <th>N_Epochs</th>\n",
       "      <th>Conv_L1_reg</th>\n",
       "      <th>Conv_L2_reg</th>\n",
       "      <th>Dense_L1_reg</th>\n",
       "      <th>Dense_L2_reg</th>\n",
       "      <th>Bias_l2_reg</th>\n",
       "      <th>PreTrained</th>\n",
       "      <th>Aug_Zoom_mode</th>\n",
       "      <th>Bias</th>\n",
       "      <th>Std</th>\n",
       "      <th>R2</th>\n",
       "      <th>MAE</th>\n",
       "      <th>CMA_size</th>\n",
       "    </tr>\n",
       "  </thead>\n",
       "  <tbody>\n",
       "    <tr>\n",
       "      <th>26</th>\n",
       "      <td>Xception</td>\n",
       "      <td>XC_RI</td>\n",
       "      <td>huber</td>\n",
       "      <td>459</td>\n",
       "      <td>600</td>\n",
       "      <td>0</td>\n",
       "      <td>0</td>\n",
       "      <td>0</td>\n",
       "      <td>0</td>\n",
       "      <td>0</td>\n",
       "      <td>1</td>\n",
       "      <td>random_uniform</td>\n",
       "      <td>2.6913</td>\n",
       "      <td>41.4176</td>\n",
       "      <td>0.5570</td>\n",
       "      <td>31.6359</td>\n",
       "      <td>0</td>\n",
       "    </tr>\n",
       "    <tr>\n",
       "      <th>62</th>\n",
       "      <td>baseline_CNN</td>\n",
       "      <td>BL_RI_test3</td>\n",
       "      <td>huber</td>\n",
       "      <td>592</td>\n",
       "      <td>600</td>\n",
       "      <td>0</td>\n",
       "      <td>0</td>\n",
       "      <td>0</td>\n",
       "      <td>0</td>\n",
       "      <td>0</td>\n",
       "      <td>0</td>\n",
       "      <td>random_uniform</td>\n",
       "      <td>3.6163</td>\n",
       "      <td>42.7102</td>\n",
       "      <td>0.5275</td>\n",
       "      <td>31.7839</td>\n",
       "      <td>0</td>\n",
       "    </tr>\n",
       "    <tr>\n",
       "      <th>134</th>\n",
       "      <td>baseline_CNN</td>\n",
       "      <td>BL_RI_test2</td>\n",
       "      <td>huber</td>\n",
       "      <td>411</td>\n",
       "      <td>600</td>\n",
       "      <td>0</td>\n",
       "      <td>0</td>\n",
       "      <td>0</td>\n",
       "      <td>0</td>\n",
       "      <td>0</td>\n",
       "      <td>0</td>\n",
       "      <td>random_uniform</td>\n",
       "      <td>6.6731</td>\n",
       "      <td>43.6025</td>\n",
       "      <td>0.4996</td>\n",
       "      <td>32.1491</td>\n",
       "      <td>0</td>\n",
       "    </tr>\n",
       "    <tr>\n",
       "      <th>122</th>\n",
       "      <td>ResNet50V2</td>\n",
       "      <td>RN_RI</td>\n",
       "      <td>huber</td>\n",
       "      <td>575</td>\n",
       "      <td>600</td>\n",
       "      <td>0</td>\n",
       "      <td>0</td>\n",
       "      <td>0</td>\n",
       "      <td>0</td>\n",
       "      <td>0</td>\n",
       "      <td>1</td>\n",
       "      <td>random_uniform</td>\n",
       "      <td>2.8157</td>\n",
       "      <td>44.3080</td>\n",
       "      <td>0.4931</td>\n",
       "      <td>32.2028</td>\n",
       "      <td>0</td>\n",
       "    </tr>\n",
       "    <tr>\n",
       "      <th>98</th>\n",
       "      <td>ResNet50V2</td>\n",
       "      <td>RN_RI_test1</td>\n",
       "      <td>huber</td>\n",
       "      <td>519</td>\n",
       "      <td>600</td>\n",
       "      <td>0</td>\n",
       "      <td>0</td>\n",
       "      <td>0</td>\n",
       "      <td>0</td>\n",
       "      <td>0</td>\n",
       "      <td>1</td>\n",
       "      <td>random_uniform</td>\n",
       "      <td>5.9804</td>\n",
       "      <td>42.6683</td>\n",
       "      <td>0.5226</td>\n",
       "      <td>32.2629</td>\n",
       "      <td>0</td>\n",
       "    </tr>\n",
       "    <tr>\n",
       "      <th>50</th>\n",
       "      <td>Xception</td>\n",
       "      <td>XC_RI_test1</td>\n",
       "      <td>huber</td>\n",
       "      <td>428</td>\n",
       "      <td>600</td>\n",
       "      <td>0</td>\n",
       "      <td>0</td>\n",
       "      <td>0</td>\n",
       "      <td>0</td>\n",
       "      <td>0</td>\n",
       "      <td>1</td>\n",
       "      <td>random_uniform</td>\n",
       "      <td>3.5053</td>\n",
       "      <td>43.4322</td>\n",
       "      <td>0.5117</td>\n",
       "      <td>32.2768</td>\n",
       "      <td>0</td>\n",
       "    </tr>\n",
       "    <tr>\n",
       "      <th>110</th>\n",
       "      <td>Xception</td>\n",
       "      <td>XC_RI_test3</td>\n",
       "      <td>huber</td>\n",
       "      <td>283</td>\n",
       "      <td>600</td>\n",
       "      <td>0</td>\n",
       "      <td>0</td>\n",
       "      <td>0</td>\n",
       "      <td>0</td>\n",
       "      <td>0</td>\n",
       "      <td>1</td>\n",
       "      <td>random_uniform</td>\n",
       "      <td>4.1967</td>\n",
       "      <td>45.0535</td>\n",
       "      <td>0.4734</td>\n",
       "      <td>32.9236</td>\n",
       "      <td>0</td>\n",
       "    </tr>\n",
       "    <tr>\n",
       "      <th>14</th>\n",
       "      <td>baseline_CNN</td>\n",
       "      <td>BL_RI_test1</td>\n",
       "      <td>huber</td>\n",
       "      <td>413</td>\n",
       "      <td>600</td>\n",
       "      <td>0</td>\n",
       "      <td>0</td>\n",
       "      <td>0</td>\n",
       "      <td>0</td>\n",
       "      <td>0</td>\n",
       "      <td>0</td>\n",
       "      <td>random_uniform</td>\n",
       "      <td>4.2286</td>\n",
       "      <td>44.2022</td>\n",
       "      <td>0.4929</td>\n",
       "      <td>32.9538</td>\n",
       "      <td>0</td>\n",
       "    </tr>\n",
       "    <tr>\n",
       "      <th>74</th>\n",
       "      <td>baseline_CNN</td>\n",
       "      <td>BL_RI</td>\n",
       "      <td>huber</td>\n",
       "      <td>483</td>\n",
       "      <td>600</td>\n",
       "      <td>0</td>\n",
       "      <td>0</td>\n",
       "      <td>0</td>\n",
       "      <td>0</td>\n",
       "      <td>0</td>\n",
       "      <td>0</td>\n",
       "      <td>random_uniform</td>\n",
       "      <td>4.2057</td>\n",
       "      <td>45.5125</td>\n",
       "      <td>0.4627</td>\n",
       "      <td>33.2068</td>\n",
       "      <td>0</td>\n",
       "    </tr>\n",
       "    <tr>\n",
       "      <th>86</th>\n",
       "      <td>ResNet50V2</td>\n",
       "      <td>RN_RI_test3</td>\n",
       "      <td>huber</td>\n",
       "      <td>362</td>\n",
       "      <td>600</td>\n",
       "      <td>0</td>\n",
       "      <td>0</td>\n",
       "      <td>0</td>\n",
       "      <td>0</td>\n",
       "      <td>0</td>\n",
       "      <td>1</td>\n",
       "      <td>random_uniform</td>\n",
       "      <td>3.1154</td>\n",
       "      <td>45.3151</td>\n",
       "      <td>0.4694</td>\n",
       "      <td>33.2691</td>\n",
       "      <td>0</td>\n",
       "    </tr>\n",
       "    <tr>\n",
       "      <th>38</th>\n",
       "      <td>ResNet50V2</td>\n",
       "      <td>RN_RI_test2</td>\n",
       "      <td>huber</td>\n",
       "      <td>538</td>\n",
       "      <td>600</td>\n",
       "      <td>0</td>\n",
       "      <td>0</td>\n",
       "      <td>0</td>\n",
       "      <td>0</td>\n",
       "      <td>0</td>\n",
       "      <td>1</td>\n",
       "      <td>random_uniform</td>\n",
       "      <td>1.4895</td>\n",
       "      <td>45.5899</td>\n",
       "      <td>0.4649</td>\n",
       "      <td>33.3237</td>\n",
       "      <td>0</td>\n",
       "    </tr>\n",
       "    <tr>\n",
       "      <th>2</th>\n",
       "      <td>Xception</td>\n",
       "      <td>XC_RI_test2</td>\n",
       "      <td>huber</td>\n",
       "      <td>596</td>\n",
       "      <td>600</td>\n",
       "      <td>0</td>\n",
       "      <td>0</td>\n",
       "      <td>0</td>\n",
       "      <td>0</td>\n",
       "      <td>0</td>\n",
       "      <td>1</td>\n",
       "      <td>random_uniform</td>\n",
       "      <td>5.7462</td>\n",
       "      <td>45.7101</td>\n",
       "      <td>0.4541</td>\n",
       "      <td>33.7485</td>\n",
       "      <td>0</td>\n",
       "    </tr>\n",
       "  </tbody>\n",
       "</table>\n",
       "</div>"
      ],
      "text/plain": [
       "            Model Parameter_file   Loss  Epoch  N_Epochs  Conv_L1_reg  \\\n",
       "26       Xception          XC_RI  huber    459       600            0   \n",
       "62   baseline_CNN    BL_RI_test3  huber    592       600            0   \n",
       "134  baseline_CNN    BL_RI_test2  huber    411       600            0   \n",
       "122    ResNet50V2          RN_RI  huber    575       600            0   \n",
       "98     ResNet50V2    RN_RI_test1  huber    519       600            0   \n",
       "50       Xception    XC_RI_test1  huber    428       600            0   \n",
       "110      Xception    XC_RI_test3  huber    283       600            0   \n",
       "14   baseline_CNN    BL_RI_test1  huber    413       600            0   \n",
       "74   baseline_CNN          BL_RI  huber    483       600            0   \n",
       "86     ResNet50V2    RN_RI_test3  huber    362       600            0   \n",
       "38     ResNet50V2    RN_RI_test2  huber    538       600            0   \n",
       "2        Xception    XC_RI_test2  huber    596       600            0   \n",
       "\n",
       "     Conv_L2_reg  Dense_L1_reg  Dense_L2_reg  Bias_l2_reg  PreTrained  \\\n",
       "26             0             0             0            0           1   \n",
       "62             0             0             0            0           0   \n",
       "134            0             0             0            0           0   \n",
       "122            0             0             0            0           1   \n",
       "98             0             0             0            0           1   \n",
       "50             0             0             0            0           1   \n",
       "110            0             0             0            0           1   \n",
       "14             0             0             0            0           0   \n",
       "74             0             0             0            0           0   \n",
       "86             0             0             0            0           1   \n",
       "38             0             0             0            0           1   \n",
       "2              0             0             0            0           1   \n",
       "\n",
       "      Aug_Zoom_mode    Bias      Std      R2      MAE  CMA_size  \n",
       "26   random_uniform  2.6913  41.4176  0.5570  31.6359         0  \n",
       "62   random_uniform  3.6163  42.7102  0.5275  31.7839         0  \n",
       "134  random_uniform  6.6731  43.6025  0.4996  32.1491         0  \n",
       "122  random_uniform  2.8157  44.3080  0.4931  32.2028         0  \n",
       "98   random_uniform  5.9804  42.6683  0.5226  32.2629         0  \n",
       "50   random_uniform  3.5053  43.4322  0.5117  32.2768         0  \n",
       "110  random_uniform  4.1967  45.0535  0.4734  32.9236         0  \n",
       "14   random_uniform  4.2286  44.2022  0.4929  32.9538         0  \n",
       "74   random_uniform  4.2057  45.5125  0.4627  33.2068         0  \n",
       "86   random_uniform  3.1154  45.3151  0.4694  33.2691         0  \n",
       "38   random_uniform  1.4895  45.5899  0.4649  33.3237         0  \n",
       "2    random_uniform  5.7462  45.7101  0.4541  33.7485         0  "
      ]
     },
     "execution_count": 3,
     "metadata": {},
     "output_type": "execute_result"
    }
   ],
   "source": [
    "mask = (model_metrics_df.Set == 'val')\n",
    "mask &= (model_metrics_df.CMA_size == 0)\n",
    "vis_cols = ['Model', 'Parameter_file', 'Loss', 'Epoch', 'N_Epochs', 'Conv_L1_reg', 'Conv_L2_reg', 'Dense_L1_reg', 'Dense_L2_reg', 'Bias_l2_reg', 'PreTrained', 'Aug_Zoom_mode', 'Bias', 'Std', 'R2', 'MAE', 'CMA_size']\n",
    "model_metrics_df[vis_cols][mask].sort_values(by=['MAE', 'Bias', 'Std'], ascending=True)"
   ]
  },
  {
   "cell_type": "code",
   "execution_count": 9,
   "metadata": {},
   "outputs": [
    {
     "data": {
      "text/html": [
       "<div>\n",
       "<style scoped>\n",
       "    .dataframe tbody tr th:only-of-type {\n",
       "        vertical-align: middle;\n",
       "    }\n",
       "\n",
       "    .dataframe tbody tr th {\n",
       "        vertical-align: top;\n",
       "    }\n",
       "\n",
       "    .dataframe thead th {\n",
       "        text-align: right;\n",
       "    }\n",
       "</style>\n",
       "<table border=\"1\" class=\"dataframe\">\n",
       "  <thead>\n",
       "    <tr style=\"text-align: right;\">\n",
       "      <th></th>\n",
       "      <th>Model</th>\n",
       "      <th>Parameter_file</th>\n",
       "      <th>Loss</th>\n",
       "      <th>Epoch</th>\n",
       "      <th>N_Epochs</th>\n",
       "      <th>Conv_L1_reg</th>\n",
       "      <th>Conv_L2_reg</th>\n",
       "      <th>Dense_L1_reg</th>\n",
       "      <th>Dense_L2_reg</th>\n",
       "      <th>Bias_l2_reg</th>\n",
       "      <th>PreTrained</th>\n",
       "      <th>Aug_Zoom_mode</th>\n",
       "      <th>Bias</th>\n",
       "      <th>Std</th>\n",
       "      <th>R2</th>\n",
       "      <th>MAE</th>\n",
       "      <th>CMA_size</th>\n",
       "    </tr>\n",
       "  </thead>\n",
       "  <tbody>\n",
       "    <tr>\n",
       "      <th>278</th>\n",
       "      <td>baseline_CNN</td>\n",
       "      <td>BL_test4</td>\n",
       "      <td>huber</td>\n",
       "      <td>965</td>\n",
       "      <td>1350</td>\n",
       "      <td>0.1</td>\n",
       "      <td>0.0</td>\n",
       "      <td>0.0010</td>\n",
       "      <td>0.010</td>\n",
       "      <td>0.0</td>\n",
       "      <td>0</td>\n",
       "      <td>random_uniform</td>\n",
       "      <td>4.7748</td>\n",
       "      <td>41.6856</td>\n",
       "      <td>0.5472</td>\n",
       "      <td>30.5967</td>\n",
       "      <td>0</td>\n",
       "    </tr>\n",
       "    <tr>\n",
       "      <th>386</th>\n",
       "      <td>Xception</td>\n",
       "      <td>Xception_test9</td>\n",
       "      <td>huber</td>\n",
       "      <td>615</td>\n",
       "      <td>1350</td>\n",
       "      <td>0.1</td>\n",
       "      <td>0.0</td>\n",
       "      <td>0.0005</td>\n",
       "      <td>0.005</td>\n",
       "      <td>0.0</td>\n",
       "      <td>1</td>\n",
       "      <td>random_uniform</td>\n",
       "      <td>3.1371</td>\n",
       "      <td>43.3389</td>\n",
       "      <td>0.5144</td>\n",
       "      <td>30.7600</td>\n",
       "      <td>0</td>\n",
       "    </tr>\n",
       "    <tr>\n",
       "      <th>266</th>\n",
       "      <td>Xception</td>\n",
       "      <td>Xception_test10</td>\n",
       "      <td>mean_absolute_error</td>\n",
       "      <td>442</td>\n",
       "      <td>1350</td>\n",
       "      <td>0.1</td>\n",
       "      <td>0.0</td>\n",
       "      <td>0.0005</td>\n",
       "      <td>0.005</td>\n",
       "      <td>0.0</td>\n",
       "      <td>1</td>\n",
       "      <td>random_uniform</td>\n",
       "      <td>1.4322</td>\n",
       "      <td>42.1463</td>\n",
       "      <td>0.5427</td>\n",
       "      <td>31.1500</td>\n",
       "      <td>0</td>\n",
       "    </tr>\n",
       "    <tr>\n",
       "      <th>542</th>\n",
       "      <td>baseline_CNN</td>\n",
       "      <td>BL_test10</td>\n",
       "      <td>mean_absolute_error</td>\n",
       "      <td>632</td>\n",
       "      <td>1350</td>\n",
       "      <td>0.1</td>\n",
       "      <td>0.0</td>\n",
       "      <td>0.0005</td>\n",
       "      <td>0.005</td>\n",
       "      <td>0.0</td>\n",
       "      <td>0</td>\n",
       "      <td>random_uniform</td>\n",
       "      <td>2.6957</td>\n",
       "      <td>41.5187</td>\n",
       "      <td>0.5548</td>\n",
       "      <td>31.2970</td>\n",
       "      <td>0</td>\n",
       "    </tr>\n",
       "    <tr>\n",
       "      <th>398</th>\n",
       "      <td>baseline_CNN</td>\n",
       "      <td>BL_test11</td>\n",
       "      <td>huber</td>\n",
       "      <td>1025</td>\n",
       "      <td>1350</td>\n",
       "      <td>0.5</td>\n",
       "      <td>0.0</td>\n",
       "      <td>0.0005</td>\n",
       "      <td>0.005</td>\n",
       "      <td>0.0</td>\n",
       "      <td>0</td>\n",
       "      <td>random_uniform</td>\n",
       "      <td>1.9482</td>\n",
       "      <td>42.8952</td>\n",
       "      <td>0.5258</td>\n",
       "      <td>31.3061</td>\n",
       "      <td>0</td>\n",
       "    </tr>\n",
       "    <tr>\n",
       "      <th>290</th>\n",
       "      <td>ResNet50V2</td>\n",
       "      <td>RN50V2_test6</td>\n",
       "      <td>huber</td>\n",
       "      <td>335</td>\n",
       "      <td>450</td>\n",
       "      <td>0.1</td>\n",
       "      <td>0.0</td>\n",
       "      <td>0.0000</td>\n",
       "      <td>0.000</td>\n",
       "      <td>0.0</td>\n",
       "      <td>0</td>\n",
       "      <td>random_uniform</td>\n",
       "      <td>2.1795</td>\n",
       "      <td>43.0384</td>\n",
       "      <td>0.5224</td>\n",
       "      <td>31.3362</td>\n",
       "      <td>0</td>\n",
       "    </tr>\n",
       "    <tr>\n",
       "      <th>338</th>\n",
       "      <td>baseline_CNN</td>\n",
       "      <td>BL_test5</td>\n",
       "      <td>huber</td>\n",
       "      <td>1038</td>\n",
       "      <td>1350</td>\n",
       "      <td>1.0</td>\n",
       "      <td>0.0</td>\n",
       "      <td>0.0000</td>\n",
       "      <td>0.010</td>\n",
       "      <td>0.0</td>\n",
       "      <td>0</td>\n",
       "      <td>random_uniform</td>\n",
       "      <td>3.4984</td>\n",
       "      <td>43.0292</td>\n",
       "      <td>0.5207</td>\n",
       "      <td>31.3557</td>\n",
       "      <td>0</td>\n",
       "    </tr>\n",
       "    <tr>\n",
       "      <th>182</th>\n",
       "      <td>Xception</td>\n",
       "      <td>Xception_test3</td>\n",
       "      <td>huber</td>\n",
       "      <td>534</td>\n",
       "      <td>850</td>\n",
       "      <td>0.1</td>\n",
       "      <td>0.0</td>\n",
       "      <td>0.0000</td>\n",
       "      <td>0.000</td>\n",
       "      <td>0.0</td>\n",
       "      <td>0</td>\n",
       "      <td>random_uniform</td>\n",
       "      <td>4.2551</td>\n",
       "      <td>41.9419</td>\n",
       "      <td>0.5429</td>\n",
       "      <td>31.4491</td>\n",
       "      <td>0</td>\n",
       "    </tr>\n",
       "    <tr>\n",
       "      <th>326</th>\n",
       "      <td>baseline_CNN</td>\n",
       "      <td>BL_test9</td>\n",
       "      <td>huber</td>\n",
       "      <td>1122</td>\n",
       "      <td>1350</td>\n",
       "      <td>0.1</td>\n",
       "      <td>0.0</td>\n",
       "      <td>0.0005</td>\n",
       "      <td>0.005</td>\n",
       "      <td>0.0</td>\n",
       "      <td>0</td>\n",
       "      <td>random_uniform</td>\n",
       "      <td>5.6513</td>\n",
       "      <td>41.9599</td>\n",
       "      <td>0.5390</td>\n",
       "      <td>31.7498</td>\n",
       "      <td>0</td>\n",
       "    </tr>\n",
       "    <tr>\n",
       "      <th>410</th>\n",
       "      <td>Xception</td>\n",
       "      <td>Xception_test11</td>\n",
       "      <td>huber</td>\n",
       "      <td>357</td>\n",
       "      <td>1350</td>\n",
       "      <td>0.5</td>\n",
       "      <td>0.0</td>\n",
       "      <td>0.0005</td>\n",
       "      <td>0.005</td>\n",
       "      <td>0.0</td>\n",
       "      <td>1</td>\n",
       "      <td>random_uniform</td>\n",
       "      <td>8.6451</td>\n",
       "      <td>42.6401</td>\n",
       "      <td>0.5131</td>\n",
       "      <td>31.8599</td>\n",
       "      <td>0</td>\n",
       "    </tr>\n",
       "    <tr>\n",
       "      <th>350</th>\n",
       "      <td>ResNet50V2</td>\n",
       "      <td>RN50V2_test13</td>\n",
       "      <td>huber</td>\n",
       "      <td>449</td>\n",
       "      <td>1350</td>\n",
       "      <td>0.1</td>\n",
       "      <td>0.0</td>\n",
       "      <td>0.0005</td>\n",
       "      <td>0.005</td>\n",
       "      <td>0.0</td>\n",
       "      <td>1</td>\n",
       "      <td>random_uniform</td>\n",
       "      <td>2.2879</td>\n",
       "      <td>44.4231</td>\n",
       "      <td>0.4911</td>\n",
       "      <td>32.0494</td>\n",
       "      <td>0</td>\n",
       "    </tr>\n",
       "    <tr>\n",
       "      <th>422</th>\n",
       "      <td>ResNet50V2</td>\n",
       "      <td>RN50V2_test14</td>\n",
       "      <td>mean_absolute_error</td>\n",
       "      <td>488</td>\n",
       "      <td>1350</td>\n",
       "      <td>0.1</td>\n",
       "      <td>0.0</td>\n",
       "      <td>0.0005</td>\n",
       "      <td>0.005</td>\n",
       "      <td>0.0</td>\n",
       "      <td>1</td>\n",
       "      <td>random_uniform</td>\n",
       "      <td>1.8558</td>\n",
       "      <td>43.7514</td>\n",
       "      <td>0.5068</td>\n",
       "      <td>32.1972</td>\n",
       "      <td>0</td>\n",
       "    </tr>\n",
       "    <tr>\n",
       "      <th>206</th>\n",
       "      <td>Xception</td>\n",
       "      <td>Xception_test5</td>\n",
       "      <td>huber</td>\n",
       "      <td>419</td>\n",
       "      <td>850</td>\n",
       "      <td>1.0</td>\n",
       "      <td>0.0</td>\n",
       "      <td>0.0000</td>\n",
       "      <td>0.010</td>\n",
       "      <td>0.0</td>\n",
       "      <td>1</td>\n",
       "      <td>random_uniform</td>\n",
       "      <td>3.5770</td>\n",
       "      <td>44.6501</td>\n",
       "      <td>0.4840</td>\n",
       "      <td>32.2022</td>\n",
       "      <td>0</td>\n",
       "    </tr>\n",
       "    <tr>\n",
       "      <th>218</th>\n",
       "      <td>ResNet50V2</td>\n",
       "      <td>RN50V2_test9</td>\n",
       "      <td>huber</td>\n",
       "      <td>684</td>\n",
       "      <td>850</td>\n",
       "      <td>1.0</td>\n",
       "      <td>0.0</td>\n",
       "      <td>0.0000</td>\n",
       "      <td>0.010</td>\n",
       "      <td>0.0</td>\n",
       "      <td>1</td>\n",
       "      <td>random_uniform</td>\n",
       "      <td>1.4740</td>\n",
       "      <td>44.6161</td>\n",
       "      <td>0.4875</td>\n",
       "      <td>32.4630</td>\n",
       "      <td>0</td>\n",
       "    </tr>\n",
       "    <tr>\n",
       "      <th>482</th>\n",
       "      <td>ResNet50V2</td>\n",
       "      <td>RN50V2_test15</td>\n",
       "      <td>huber</td>\n",
       "      <td>849</td>\n",
       "      <td>1350</td>\n",
       "      <td>0.5</td>\n",
       "      <td>0.0</td>\n",
       "      <td>0.0005</td>\n",
       "      <td>0.005</td>\n",
       "      <td>0.0</td>\n",
       "      <td>1</td>\n",
       "      <td>random_uniform</td>\n",
       "      <td>1.3912</td>\n",
       "      <td>44.2299</td>\n",
       "      <td>0.4964</td>\n",
       "      <td>32.6753</td>\n",
       "      <td>0</td>\n",
       "    </tr>\n",
       "    <tr>\n",
       "      <th>254</th>\n",
       "      <td>ResNet50V2</td>\n",
       "      <td>RN50V2_test7</td>\n",
       "      <td>huber</td>\n",
       "      <td>779</td>\n",
       "      <td>850</td>\n",
       "      <td>1.0</td>\n",
       "      <td>0.0</td>\n",
       "      <td>0.0010</td>\n",
       "      <td>0.010</td>\n",
       "      <td>0.0</td>\n",
       "      <td>0</td>\n",
       "      <td>random_uniform</td>\n",
       "      <td>2.6037</td>\n",
       "      <td>45.5804</td>\n",
       "      <td>0.4640</td>\n",
       "      <td>33.0187</td>\n",
       "      <td>0</td>\n",
       "    </tr>\n",
       "    <tr>\n",
       "      <th>194</th>\n",
       "      <td>ResNet50V2</td>\n",
       "      <td>RN50V2_test8</td>\n",
       "      <td>huber</td>\n",
       "      <td>821</td>\n",
       "      <td>850</td>\n",
       "      <td>1.0</td>\n",
       "      <td>0.0</td>\n",
       "      <td>0.0000</td>\n",
       "      <td>0.010</td>\n",
       "      <td>0.0</td>\n",
       "      <td>0</td>\n",
       "      <td>random_uniform</td>\n",
       "      <td>2.8492</td>\n",
       "      <td>45.0424</td>\n",
       "      <td>0.4761</td>\n",
       "      <td>33.3582</td>\n",
       "      <td>0</td>\n",
       "    </tr>\n",
       "    <tr>\n",
       "      <th>494</th>\n",
       "      <td>Xception</td>\n",
       "      <td>Xception_test4</td>\n",
       "      <td>huber</td>\n",
       "      <td>148</td>\n",
       "      <td>850</td>\n",
       "      <td>1.0</td>\n",
       "      <td>0.0</td>\n",
       "      <td>0.0000</td>\n",
       "      <td>0.010</td>\n",
       "      <td>0.0</td>\n",
       "      <td>0</td>\n",
       "      <td>random_uniform</td>\n",
       "      <td>3.4955</td>\n",
       "      <td>45.4219</td>\n",
       "      <td>0.4663</td>\n",
       "      <td>33.9714</td>\n",
       "      <td>0</td>\n",
       "    </tr>\n",
       "  </tbody>\n",
       "</table>\n",
       "</div>"
      ],
      "text/plain": [
       "            Model   Parameter_file                 Loss  Epoch  N_Epochs  \\\n",
       "278  baseline_CNN         BL_test4                huber    965      1350   \n",
       "386      Xception   Xception_test9                huber    615      1350   \n",
       "266      Xception  Xception_test10  mean_absolute_error    442      1350   \n",
       "542  baseline_CNN        BL_test10  mean_absolute_error    632      1350   \n",
       "398  baseline_CNN        BL_test11                huber   1025      1350   \n",
       "290    ResNet50V2     RN50V2_test6                huber    335       450   \n",
       "338  baseline_CNN         BL_test5                huber   1038      1350   \n",
       "182      Xception   Xception_test3                huber    534       850   \n",
       "326  baseline_CNN         BL_test9                huber   1122      1350   \n",
       "410      Xception  Xception_test11                huber    357      1350   \n",
       "350    ResNet50V2    RN50V2_test13                huber    449      1350   \n",
       "422    ResNet50V2    RN50V2_test14  mean_absolute_error    488      1350   \n",
       "206      Xception   Xception_test5                huber    419       850   \n",
       "218    ResNet50V2     RN50V2_test9                huber    684       850   \n",
       "482    ResNet50V2    RN50V2_test15                huber    849      1350   \n",
       "254    ResNet50V2     RN50V2_test7                huber    779       850   \n",
       "194    ResNet50V2     RN50V2_test8                huber    821       850   \n",
       "494      Xception   Xception_test4                huber    148       850   \n",
       "\n",
       "     Conv_L1_reg  Conv_L2_reg  Dense_L1_reg  Dense_L2_reg  Bias_l2_reg  \\\n",
       "278          0.1          0.0        0.0010         0.010          0.0   \n",
       "386          0.1          0.0        0.0005         0.005          0.0   \n",
       "266          0.1          0.0        0.0005         0.005          0.0   \n",
       "542          0.1          0.0        0.0005         0.005          0.0   \n",
       "398          0.5          0.0        0.0005         0.005          0.0   \n",
       "290          0.1          0.0        0.0000         0.000          0.0   \n",
       "338          1.0          0.0        0.0000         0.010          0.0   \n",
       "182          0.1          0.0        0.0000         0.000          0.0   \n",
       "326          0.1          0.0        0.0005         0.005          0.0   \n",
       "410          0.5          0.0        0.0005         0.005          0.0   \n",
       "350          0.1          0.0        0.0005         0.005          0.0   \n",
       "422          0.1          0.0        0.0005         0.005          0.0   \n",
       "206          1.0          0.0        0.0000         0.010          0.0   \n",
       "218          1.0          0.0        0.0000         0.010          0.0   \n",
       "482          0.5          0.0        0.0005         0.005          0.0   \n",
       "254          1.0          0.0        0.0010         0.010          0.0   \n",
       "194          1.0          0.0        0.0000         0.010          0.0   \n",
       "494          1.0          0.0        0.0000         0.010          0.0   \n",
       "\n",
       "     PreTrained   Aug_Zoom_mode    Bias      Std      R2      MAE  CMA_size  \n",
       "278           0  random_uniform  4.7748  41.6856  0.5472  30.5967         0  \n",
       "386           1  random_uniform  3.1371  43.3389  0.5144  30.7600         0  \n",
       "266           1  random_uniform  1.4322  42.1463  0.5427  31.1500         0  \n",
       "542           0  random_uniform  2.6957  41.5187  0.5548  31.2970         0  \n",
       "398           0  random_uniform  1.9482  42.8952  0.5258  31.3061         0  \n",
       "290           0  random_uniform  2.1795  43.0384  0.5224  31.3362         0  \n",
       "338           0  random_uniform  3.4984  43.0292  0.5207  31.3557         0  \n",
       "182           0  random_uniform  4.2551  41.9419  0.5429  31.4491         0  \n",
       "326           0  random_uniform  5.6513  41.9599  0.5390  31.7498         0  \n",
       "410           1  random_uniform  8.6451  42.6401  0.5131  31.8599         0  \n",
       "350           1  random_uniform  2.2879  44.4231  0.4911  32.0494         0  \n",
       "422           1  random_uniform  1.8558  43.7514  0.5068  32.1972         0  \n",
       "206           1  random_uniform  3.5770  44.6501  0.4840  32.2022         0  \n",
       "218           1  random_uniform  1.4740  44.6161  0.4875  32.4630         0  \n",
       "482           1  random_uniform  1.3912  44.2299  0.4964  32.6753         0  \n",
       "254           0  random_uniform  2.6037  45.5804  0.4640  33.0187         0  \n",
       "194           0  random_uniform  2.8492  45.0424  0.4761  33.3582         0  \n",
       "494           0  random_uniform  3.4955  45.4219  0.4663  33.9714         0  "
      ]
     },
     "execution_count": 9,
     "metadata": {},
     "output_type": "execute_result"
    }
   ],
   "source": [
    "mask = (model_metrics_df.Set == 'val')\n",
    "mask &= (model_metrics_df.CMA_size == 0)\n",
    "#mask &= (model_metrics_df.Model.str.contains('ResNet50V2'))\n",
    "#mask &= (model_metrics_df.Parameter_file.str.contains('test3|test4'))\n",
    "mask &= (model_metrics_df.Conv_L1_reg >= 0.1)\n",
    "\n",
    "model_metrics_df[vis_cols][mask].sort_values(by=['MAE'], ascending=True)"
   ]
  },
  {
   "cell_type": "code",
   "execution_count": 11,
   "metadata": {},
   "outputs": [
    {
     "data": {
      "application/vnd.plotly.v1+json": {
       "config": {
        "plotlyServerURL": "https://plot.ly"
       },
       "data": [
        {
         "hovertemplate": "MAE=%{x}<br>Bias=%{y}<br>Std=%{z}<br>Parameter_file=%{text}<br>Epoch=%{marker.color}<extra></extra>",
         "legendgroup": "",
         "marker": {
          "color": [
           147,
           425,
           240,
           142,
           154,
           437,
           240,
           301,
           273,
           247,
           102,
           156,
           274,
           433,
           181,
           534,
           821,
           419,
           684,
           226,
           598,
           779,
           442,
           965,
           335,
           804,
           1118,
           1122,
           1038,
           449,
           268,
           380,
           615,
           1025,
           357,
           488,
           431,
           453,
           308,
           469,
           849,
           148,
           350,
           852,
           337,
           632,
           330,
           257
          ],
          "coloraxis": "coloraxis",
          "symbol": "circle"
         },
         "mode": "markers+text",
         "name": "",
         "scene": "scene",
         "showlegend": false,
         "text": [
          "BL_test1_control",
          "Small_BL_test1",
          "RN50V2_same_size",
          "Xception_test2",
          "RN50V2_test2",
          "BL_test1",
          "Small_BL",
          "RN50V2",
          "Xception_control",
          "RN50V2_control",
          "RN50V2_test5",
          "BL_same_size",
          "Xception",
          "BL",
          "RN50V2_ss_test1",
          "Xception_test3",
          "RN50V2_test8",
          "Xception_test5",
          "RN50V2_test9",
          "RN50V2_test11",
          "Xception_test7",
          "RN50V2_test7",
          "Xception_test10",
          "BL_test4",
          "RN50V2_test6",
          "Xception_test8",
          "RN50V2_test12",
          "BL_test9",
          "BL_test5",
          "RN50V2_test13",
          "RN50V2_test1",
          "BL_test2",
          "Xception_test9",
          "BL_test11",
          "Xception_test11",
          "RN50V2_test14",
          "BL_test3",
          "RN50V2_test10",
          "BL_test7",
          "BL_test8",
          "RN50V2_test15",
          "Xception_test4",
          "BL_test6",
          "Xception_test6",
          "RN50V2_test3",
          "BL_test10",
          "RN50V2_test4",
          "Xception_test1"
         ],
         "type": "scatter3d",
         "x": [
          31.137,
          32.6073,
          30.6607,
          30.8244,
          31.0299,
          30.2022,
          31.2348,
          30.4753,
          31.463,
          30.5272,
          31.2123,
          31.8932,
          29.6838,
          29.785,
          31.8454,
          31.4491,
          33.3582,
          32.2022,
          32.463,
          31.7571,
          30.4045,
          33.0187,
          31.15,
          30.5967,
          31.3362,
          30.7562,
          31.2774,
          31.7498,
          31.3557,
          32.0494,
          30.7597,
          30.3205,
          30.76,
          31.3061,
          31.8599,
          32.1972,
          30.7686,
          30.0386,
          31.5847,
          30.155,
          32.6753,
          33.9714,
          30.6048,
          31.0254,
          31.2816,
          31.297,
          30.518,
          30.6377
         ],
         "y": [
          0.3832,
          3.7071,
          0.7306,
          1.9758,
          2.6622,
          0.3256,
          3.6995,
          3.2001,
          0.8852,
          3.8839,
          4.8959,
          2.1403,
          3.6691,
          1.6953,
          2.8169,
          4.2551,
          2.8492,
          3.577,
          1.474,
          0.2941,
          2.9241,
          2.6037,
          1.4322,
          4.7748,
          2.1795,
          8.1271,
          1.9665,
          5.6513,
          3.4984,
          2.2879,
          2.478,
          5.2162,
          3.1371,
          1.9482,
          8.6451,
          1.8558,
          5.3892,
          0.823,
          4.3274,
          3.5159,
          1.3912,
          3.4955,
          6.7571,
          2.6141,
          0.4817,
          2.6957,
          2.8188,
          0.31
         ],
         "z": [
          41.3858,
          42.0752,
          40.633,
          40.7789,
          40.8136,
          38.6071,
          41.0419,
          39.9941,
          41.6933,
          39.8275,
          40.9705,
          41.5432,
          39.2976,
          38.6778,
          42.5676,
          41.9419,
          45.0424,
          44.6501,
          44.6161,
          43.1063,
          40.6272,
          45.5804,
          42.1463,
          41.6856,
          43.0384,
          39.4679,
          41.0879,
          41.9599,
          43.0292,
          44.4231,
          40.3685,
          39.2464,
          43.3389,
          42.8952,
          42.6401,
          43.7514,
          40.2976,
          41.545,
          41.1126,
          39.8297,
          44.2299,
          45.4219,
          39.3689,
          41.0772,
          40.0975,
          41.5187,
          40.6339,
          40.3812
         ]
        }
       ],
       "layout": {
        "autosize": true,
        "coloraxis": {
         "colorbar": {
          "title": {
           "text": "Epoch"
          }
         },
         "colorscale": [
          [
           0,
           "#0d0887"
          ],
          [
           0.1111111111111111,
           "#46039f"
          ],
          [
           0.2222222222222222,
           "#7201a8"
          ],
          [
           0.3333333333333333,
           "#9c179e"
          ],
          [
           0.4444444444444444,
           "#bd3786"
          ],
          [
           0.5555555555555556,
           "#d8576b"
          ],
          [
           0.6666666666666666,
           "#ed7953"
          ],
          [
           0.7777777777777778,
           "#fb9f3a"
          ],
          [
           0.8888888888888888,
           "#fdca26"
          ],
          [
           1,
           "#f0f921"
          ]
         ]
        },
        "legend": {
         "tracegroupgap": 0
        },
        "margin": {
         "t": 60
        },
        "scene": {
         "aspectmode": "auto",
         "aspectratio": {
          "x": 0.680900882577829,
          "y": 1.3261972363110943,
          "z": 1.1074088358242304
         },
         "camera": {
          "center": {
           "x": 0,
           "y": 0,
           "z": 0
          },
          "eye": {
           "x": -1.3624231927117947,
           "y": -1.6184881865348206,
           "z": 0.4602162904637661
          },
          "projection": {
           "type": "perspective"
          },
          "up": {
           "x": 0,
           "y": 0,
           "z": 1
          }
         },
         "domain": {
          "x": [
           0,
           1
          ],
          "y": [
           0,
           1
          ]
         },
         "xaxis": {
          "title": {
           "text": "MAE"
          },
          "type": "linear"
         },
         "yaxis": {
          "title": {
           "text": "Bias"
          },
          "type": "linear"
         },
         "zaxis": {
          "title": {
           "text": "Std"
          },
          "type": "linear"
         }
        },
        "template": {
         "data": {
          "bar": [
           {
            "error_x": {
             "color": "#2a3f5f"
            },
            "error_y": {
             "color": "#2a3f5f"
            },
            "marker": {
             "line": {
              "color": "#E5ECF6",
              "width": 0.5
             }
            },
            "type": "bar"
           }
          ],
          "barpolar": [
           {
            "marker": {
             "line": {
              "color": "#E5ECF6",
              "width": 0.5
             }
            },
            "type": "barpolar"
           }
          ],
          "carpet": [
           {
            "aaxis": {
             "endlinecolor": "#2a3f5f",
             "gridcolor": "white",
             "linecolor": "white",
             "minorgridcolor": "white",
             "startlinecolor": "#2a3f5f"
            },
            "baxis": {
             "endlinecolor": "#2a3f5f",
             "gridcolor": "white",
             "linecolor": "white",
             "minorgridcolor": "white",
             "startlinecolor": "#2a3f5f"
            },
            "type": "carpet"
           }
          ],
          "choropleth": [
           {
            "colorbar": {
             "outlinewidth": 0,
             "ticks": ""
            },
            "type": "choropleth"
           }
          ],
          "contour": [
           {
            "colorbar": {
             "outlinewidth": 0,
             "ticks": ""
            },
            "colorscale": [
             [
              0,
              "#0d0887"
             ],
             [
              0.1111111111111111,
              "#46039f"
             ],
             [
              0.2222222222222222,
              "#7201a8"
             ],
             [
              0.3333333333333333,
              "#9c179e"
             ],
             [
              0.4444444444444444,
              "#bd3786"
             ],
             [
              0.5555555555555556,
              "#d8576b"
             ],
             [
              0.6666666666666666,
              "#ed7953"
             ],
             [
              0.7777777777777778,
              "#fb9f3a"
             ],
             [
              0.8888888888888888,
              "#fdca26"
             ],
             [
              1,
              "#f0f921"
             ]
            ],
            "type": "contour"
           }
          ],
          "contourcarpet": [
           {
            "colorbar": {
             "outlinewidth": 0,
             "ticks": ""
            },
            "type": "contourcarpet"
           }
          ],
          "heatmap": [
           {
            "colorbar": {
             "outlinewidth": 0,
             "ticks": ""
            },
            "colorscale": [
             [
              0,
              "#0d0887"
             ],
             [
              0.1111111111111111,
              "#46039f"
             ],
             [
              0.2222222222222222,
              "#7201a8"
             ],
             [
              0.3333333333333333,
              "#9c179e"
             ],
             [
              0.4444444444444444,
              "#bd3786"
             ],
             [
              0.5555555555555556,
              "#d8576b"
             ],
             [
              0.6666666666666666,
              "#ed7953"
             ],
             [
              0.7777777777777778,
              "#fb9f3a"
             ],
             [
              0.8888888888888888,
              "#fdca26"
             ],
             [
              1,
              "#f0f921"
             ]
            ],
            "type": "heatmap"
           }
          ],
          "heatmapgl": [
           {
            "colorbar": {
             "outlinewidth": 0,
             "ticks": ""
            },
            "colorscale": [
             [
              0,
              "#0d0887"
             ],
             [
              0.1111111111111111,
              "#46039f"
             ],
             [
              0.2222222222222222,
              "#7201a8"
             ],
             [
              0.3333333333333333,
              "#9c179e"
             ],
             [
              0.4444444444444444,
              "#bd3786"
             ],
             [
              0.5555555555555556,
              "#d8576b"
             ],
             [
              0.6666666666666666,
              "#ed7953"
             ],
             [
              0.7777777777777778,
              "#fb9f3a"
             ],
             [
              0.8888888888888888,
              "#fdca26"
             ],
             [
              1,
              "#f0f921"
             ]
            ],
            "type": "heatmapgl"
           }
          ],
          "histogram": [
           {
            "marker": {
             "colorbar": {
              "outlinewidth": 0,
              "ticks": ""
             }
            },
            "type": "histogram"
           }
          ],
          "histogram2d": [
           {
            "colorbar": {
             "outlinewidth": 0,
             "ticks": ""
            },
            "colorscale": [
             [
              0,
              "#0d0887"
             ],
             [
              0.1111111111111111,
              "#46039f"
             ],
             [
              0.2222222222222222,
              "#7201a8"
             ],
             [
              0.3333333333333333,
              "#9c179e"
             ],
             [
              0.4444444444444444,
              "#bd3786"
             ],
             [
              0.5555555555555556,
              "#d8576b"
             ],
             [
              0.6666666666666666,
              "#ed7953"
             ],
             [
              0.7777777777777778,
              "#fb9f3a"
             ],
             [
              0.8888888888888888,
              "#fdca26"
             ],
             [
              1,
              "#f0f921"
             ]
            ],
            "type": "histogram2d"
           }
          ],
          "histogram2dcontour": [
           {
            "colorbar": {
             "outlinewidth": 0,
             "ticks": ""
            },
            "colorscale": [
             [
              0,
              "#0d0887"
             ],
             [
              0.1111111111111111,
              "#46039f"
             ],
             [
              0.2222222222222222,
              "#7201a8"
             ],
             [
              0.3333333333333333,
              "#9c179e"
             ],
             [
              0.4444444444444444,
              "#bd3786"
             ],
             [
              0.5555555555555556,
              "#d8576b"
             ],
             [
              0.6666666666666666,
              "#ed7953"
             ],
             [
              0.7777777777777778,
              "#fb9f3a"
             ],
             [
              0.8888888888888888,
              "#fdca26"
             ],
             [
              1,
              "#f0f921"
             ]
            ],
            "type": "histogram2dcontour"
           }
          ],
          "mesh3d": [
           {
            "colorbar": {
             "outlinewidth": 0,
             "ticks": ""
            },
            "type": "mesh3d"
           }
          ],
          "parcoords": [
           {
            "line": {
             "colorbar": {
              "outlinewidth": 0,
              "ticks": ""
             }
            },
            "type": "parcoords"
           }
          ],
          "pie": [
           {
            "automargin": true,
            "type": "pie"
           }
          ],
          "scatter": [
           {
            "marker": {
             "colorbar": {
              "outlinewidth": 0,
              "ticks": ""
             }
            },
            "type": "scatter"
           }
          ],
          "scatter3d": [
           {
            "line": {
             "colorbar": {
              "outlinewidth": 0,
              "ticks": ""
             }
            },
            "marker": {
             "colorbar": {
              "outlinewidth": 0,
              "ticks": ""
             }
            },
            "type": "scatter3d"
           }
          ],
          "scattercarpet": [
           {
            "marker": {
             "colorbar": {
              "outlinewidth": 0,
              "ticks": ""
             }
            },
            "type": "scattercarpet"
           }
          ],
          "scattergeo": [
           {
            "marker": {
             "colorbar": {
              "outlinewidth": 0,
              "ticks": ""
             }
            },
            "type": "scattergeo"
           }
          ],
          "scattergl": [
           {
            "marker": {
             "colorbar": {
              "outlinewidth": 0,
              "ticks": ""
             }
            },
            "type": "scattergl"
           }
          ],
          "scattermapbox": [
           {
            "marker": {
             "colorbar": {
              "outlinewidth": 0,
              "ticks": ""
             }
            },
            "type": "scattermapbox"
           }
          ],
          "scatterpolar": [
           {
            "marker": {
             "colorbar": {
              "outlinewidth": 0,
              "ticks": ""
             }
            },
            "type": "scatterpolar"
           }
          ],
          "scatterpolargl": [
           {
            "marker": {
             "colorbar": {
              "outlinewidth": 0,
              "ticks": ""
             }
            },
            "type": "scatterpolargl"
           }
          ],
          "scatterternary": [
           {
            "marker": {
             "colorbar": {
              "outlinewidth": 0,
              "ticks": ""
             }
            },
            "type": "scatterternary"
           }
          ],
          "surface": [
           {
            "colorbar": {
             "outlinewidth": 0,
             "ticks": ""
            },
            "colorscale": [
             [
              0,
              "#0d0887"
             ],
             [
              0.1111111111111111,
              "#46039f"
             ],
             [
              0.2222222222222222,
              "#7201a8"
             ],
             [
              0.3333333333333333,
              "#9c179e"
             ],
             [
              0.4444444444444444,
              "#bd3786"
             ],
             [
              0.5555555555555556,
              "#d8576b"
             ],
             [
              0.6666666666666666,
              "#ed7953"
             ],
             [
              0.7777777777777778,
              "#fb9f3a"
             ],
             [
              0.8888888888888888,
              "#fdca26"
             ],
             [
              1,
              "#f0f921"
             ]
            ],
            "type": "surface"
           }
          ],
          "table": [
           {
            "cells": {
             "fill": {
              "color": "#EBF0F8"
             },
             "line": {
              "color": "white"
             }
            },
            "header": {
             "fill": {
              "color": "#C8D4E3"
             },
             "line": {
              "color": "white"
             }
            },
            "type": "table"
           }
          ]
         },
         "layout": {
          "annotationdefaults": {
           "arrowcolor": "#2a3f5f",
           "arrowhead": 0,
           "arrowwidth": 1
          },
          "autotypenumbers": "strict",
          "coloraxis": {
           "colorbar": {
            "outlinewidth": 0,
            "ticks": ""
           }
          },
          "colorscale": {
           "diverging": [
            [
             0,
             "#8e0152"
            ],
            [
             0.1,
             "#c51b7d"
            ],
            [
             0.2,
             "#de77ae"
            ],
            [
             0.3,
             "#f1b6da"
            ],
            [
             0.4,
             "#fde0ef"
            ],
            [
             0.5,
             "#f7f7f7"
            ],
            [
             0.6,
             "#e6f5d0"
            ],
            [
             0.7,
             "#b8e186"
            ],
            [
             0.8,
             "#7fbc41"
            ],
            [
             0.9,
             "#4d9221"
            ],
            [
             1,
             "#276419"
            ]
           ],
           "sequential": [
            [
             0,
             "#0d0887"
            ],
            [
             0.1111111111111111,
             "#46039f"
            ],
            [
             0.2222222222222222,
             "#7201a8"
            ],
            [
             0.3333333333333333,
             "#9c179e"
            ],
            [
             0.4444444444444444,
             "#bd3786"
            ],
            [
             0.5555555555555556,
             "#d8576b"
            ],
            [
             0.6666666666666666,
             "#ed7953"
            ],
            [
             0.7777777777777778,
             "#fb9f3a"
            ],
            [
             0.8888888888888888,
             "#fdca26"
            ],
            [
             1,
             "#f0f921"
            ]
           ],
           "sequentialminus": [
            [
             0,
             "#0d0887"
            ],
            [
             0.1111111111111111,
             "#46039f"
            ],
            [
             0.2222222222222222,
             "#7201a8"
            ],
            [
             0.3333333333333333,
             "#9c179e"
            ],
            [
             0.4444444444444444,
             "#bd3786"
            ],
            [
             0.5555555555555556,
             "#d8576b"
            ],
            [
             0.6666666666666666,
             "#ed7953"
            ],
            [
             0.7777777777777778,
             "#fb9f3a"
            ],
            [
             0.8888888888888888,
             "#fdca26"
            ],
            [
             1,
             "#f0f921"
            ]
           ]
          },
          "colorway": [
           "#636efa",
           "#EF553B",
           "#00cc96",
           "#ab63fa",
           "#FFA15A",
           "#19d3f3",
           "#FF6692",
           "#B6E880",
           "#FF97FF",
           "#FECB52"
          ],
          "font": {
           "color": "#2a3f5f"
          },
          "geo": {
           "bgcolor": "white",
           "lakecolor": "white",
           "landcolor": "#E5ECF6",
           "showlakes": true,
           "showland": true,
           "subunitcolor": "white"
          },
          "hoverlabel": {
           "align": "left"
          },
          "hovermode": "closest",
          "mapbox": {
           "style": "light"
          },
          "paper_bgcolor": "white",
          "plot_bgcolor": "#E5ECF6",
          "polar": {
           "angularaxis": {
            "gridcolor": "white",
            "linecolor": "white",
            "ticks": ""
           },
           "bgcolor": "#E5ECF6",
           "radialaxis": {
            "gridcolor": "white",
            "linecolor": "white",
            "ticks": ""
           }
          },
          "scene": {
           "xaxis": {
            "backgroundcolor": "#E5ECF6",
            "gridcolor": "white",
            "gridwidth": 2,
            "linecolor": "white",
            "showbackground": true,
            "ticks": "",
            "zerolinecolor": "white"
           },
           "yaxis": {
            "backgroundcolor": "#E5ECF6",
            "gridcolor": "white",
            "gridwidth": 2,
            "linecolor": "white",
            "showbackground": true,
            "ticks": "",
            "zerolinecolor": "white"
           },
           "zaxis": {
            "backgroundcolor": "#E5ECF6",
            "gridcolor": "white",
            "gridwidth": 2,
            "linecolor": "white",
            "showbackground": true,
            "ticks": "",
            "zerolinecolor": "white"
           }
          },
          "shapedefaults": {
           "line": {
            "color": "#2a3f5f"
           }
          },
          "ternary": {
           "aaxis": {
            "gridcolor": "white",
            "linecolor": "white",
            "ticks": ""
           },
           "baxis": {
            "gridcolor": "white",
            "linecolor": "white",
            "ticks": ""
           },
           "bgcolor": "#E5ECF6",
           "caxis": {
            "gridcolor": "white",
            "linecolor": "white",
            "ticks": ""
           }
          },
          "title": {
           "x": 0.05
          },
          "xaxis": {
           "automargin": true,
           "gridcolor": "white",
           "linecolor": "white",
           "ticks": "",
           "title": {
            "standoff": 15
           },
           "zerolinecolor": "white",
           "zerolinewidth": 2
          },
          "yaxis": {
           "automargin": true,
           "gridcolor": "white",
           "linecolor": "white",
           "ticks": "",
           "title": {
            "standoff": 15
           },
           "zerolinecolor": "white",
           "zerolinewidth": 2
          }
         }
        }
       }
      },
      "image/png": "[encoded data removed]",
      "text/html": [
       "<div>                            <div id=\"ee2a0798-4c11-4a14-911c-2680fde0ad3a\" class=\"plotly-graph-div\" style=\"height:525px; width:100%;\"></div>            <script type=\"text/javascript\">                require([\"plotly\"], function(Plotly) {                    window.PLOTLYENV=window.PLOTLYENV || {};                                    if (document.getElementById(\"ee2a0798-4c11-4a14-911c-2680fde0ad3a\")) {                    Plotly.newPlot(                        \"ee2a0798-4c11-4a14-911c-2680fde0ad3a\",                        [{\"hovertemplate\": \"MAE=%{x}<br>Bias=%{y}<br>Std=%{z}<br>Parameter_file=%{text}<br>Epoch=%{marker.color}<extra></extra>\", \"legendgroup\": \"\", \"marker\": {\"color\": [147, 425, 240, 142, 154, 437, 240, 301, 273, 247, 102, 156, 274, 433, 181, 534, 821, 419, 684, 226, 598, 779, 442, 965, 335, 804, 1118, 1122, 1038, 449, 268, 380, 615, 1025, 357, 488, 431, 453, 308, 469, 849, 148, 350, 852, 337, 632, 330, 257], \"coloraxis\": \"coloraxis\", \"symbol\": \"circle\"}, \"mode\": \"markers+text\", \"name\": \"\", \"scene\": \"scene\", \"showlegend\": false, \"text\": [\"BL_test1_control\", \"Small_BL_test1\", \"RN50V2_same_size\", \"Xception_test2\", \"RN50V2_test2\", \"BL_test1\", \"Small_BL\", \"RN50V2\", \"Xception_control\", \"RN50V2_control\", \"RN50V2_test5\", \"BL_same_size\", \"Xception\", \"BL\", \"RN50V2_ss_test1\", \"Xception_test3\", \"RN50V2_test8\", \"Xception_test5\", \"RN50V2_test9\", \"RN50V2_test11\", \"Xception_test7\", \"RN50V2_test7\", \"Xception_test10\", \"BL_test4\", \"RN50V2_test6\", \"Xception_test8\", \"RN50V2_test12\", \"BL_test9\", \"BL_test5\", \"RN50V2_test13\", \"RN50V2_test1\", \"BL_test2\", \"Xception_test9\", \"BL_test11\", \"Xception_test11\", \"RN50V2_test14\", \"BL_test3\", \"RN50V2_test10\", \"BL_test7\", \"BL_test8\", \"RN50V2_test15\", \"Xception_test4\", \"BL_test6\", \"Xception_test6\", \"RN50V2_test3\", \"BL_test10\", \"RN50V2_test4\", \"Xception_test1\"], \"type\": \"scatter3d\", \"x\": [31.137, 32.6073, 30.6607, 30.8244, 31.0299, 30.2022, 31.2348, 30.4753, 31.463, 30.5272, 31.2123, 31.8932, 29.6838, 29.785, 31.8454, 31.4491, 33.3582, 32.2022, 32.463, 31.7571, 30.4045, 33.0187, 31.15, 30.5967, 31.3362, 30.7562, 31.2774, 31.7498, 31.3557, 32.0494, 30.7597, 30.3205, 30.76, 31.3061, 31.8599, 32.1972, 30.7686, 30.0386, 31.5847, 30.155, 32.6753, 33.9714, 30.6048, 31.0254, 31.2816, 31.297, 30.518, 30.6377], \"y\": [0.3832, 3.7071, 0.7306, 1.9758, 2.6622, 0.3256, 3.6995, 3.2001, 0.8852, 3.8839, 4.8959, 2.1403, 3.6691, 1.6953, 2.8169, 4.2551, 2.8492, 3.577, 1.474, 0.2941, 2.9241, 2.6037, 1.4322, 4.7748, 2.1795, 8.1271, 1.9665, 5.6513, 3.4984, 2.2879, 2.478, 5.2162, 3.1371, 1.9482, 8.6451, 1.8558, 5.3892, 0.823, 4.3274, 3.5159, 1.3912, 3.4955, 6.7571, 2.6141, 0.4817, 2.6957, 2.8188, 0.31], \"z\": [41.3858, 42.0752, 40.633, 40.7789, 40.8136, 38.6071, 41.0419, 39.9941, 41.6933, 39.8275, 40.9705, 41.5432, 39.2976, 38.6778, 42.5676, 41.9419, 45.0424, 44.6501, 44.6161, 43.1063, 40.6272, 45.5804, 42.1463, 41.6856, 43.0384, 39.4679, 41.0879, 41.9599, 43.0292, 44.4231, 40.3685, 39.2464, 43.3389, 42.8952, 42.6401, 43.7514, 40.2976, 41.545, 41.1126, 39.8297, 44.2299, 45.4219, 39.3689, 41.0772, 40.0975, 41.5187, 40.6339, 40.3812]}],                        {\"coloraxis\": {\"colorbar\": {\"title\": {\"text\": \"Epoch\"}}, \"colorscale\": [[0.0, \"#0d0887\"], [0.1111111111111111, \"#46039f\"], [0.2222222222222222, \"#7201a8\"], [0.3333333333333333, \"#9c179e\"], [0.4444444444444444, \"#bd3786\"], [0.5555555555555556, \"#d8576b\"], [0.6666666666666666, \"#ed7953\"], [0.7777777777777778, \"#fb9f3a\"], [0.8888888888888888, \"#fdca26\"], [1.0, \"#f0f921\"]]}, \"legend\": {\"tracegroupgap\": 0}, \"margin\": {\"t\": 60}, \"scene\": {\"domain\": {\"x\": [0.0, 1.0], \"y\": [0.0, 1.0]}, \"xaxis\": {\"title\": {\"text\": \"MAE\"}}, \"yaxis\": {\"title\": {\"text\": \"Bias\"}}, \"zaxis\": {\"title\": {\"text\": \"Std\"}}}, \"template\": {\"data\": {\"bar\": [{\"error_x\": {\"color\": \"#2a3f5f\"}, \"error_y\": {\"color\": \"#2a3f5f\"}, \"marker\": {\"line\": {\"color\": \"#E5ECF6\", \"width\": 0.5}}, \"type\": \"bar\"}], \"barpolar\": [{\"marker\": {\"line\": {\"color\": \"#E5ECF6\", \"width\": 0.5}}, \"type\": \"barpolar\"}], \"carpet\": [{\"aaxis\": {\"endlinecolor\": \"#2a3f5f\", \"gridcolor\": \"white\", \"linecolor\": \"white\", \"minorgridcolor\": \"white\", \"startlinecolor\": \"#2a3f5f\"}, \"baxis\": {\"endlinecolor\": \"#2a3f5f\", \"gridcolor\": \"white\", \"linecolor\": \"white\", \"minorgridcolor\": \"white\", \"startlinecolor\": \"#2a3f5f\"}, \"type\": \"carpet\"}], \"choropleth\": [{\"colorbar\": {\"outlinewidth\": 0, \"ticks\": \"\"}, \"type\": \"choropleth\"}], \"contour\": [{\"colorbar\": {\"outlinewidth\": 0, \"ticks\": \"\"}, \"colorscale\": [[0.0, \"#0d0887\"], [0.1111111111111111, \"#46039f\"], [0.2222222222222222, \"#7201a8\"], [0.3333333333333333, \"#9c179e\"], [0.4444444444444444, \"#bd3786\"], [0.5555555555555556, \"#d8576b\"], [0.6666666666666666, \"#ed7953\"], [0.7777777777777778, \"#fb9f3a\"], [0.8888888888888888, \"#fdca26\"], [1.0, \"#f0f921\"]], \"type\": \"contour\"}], \"contourcarpet\": [{\"colorbar\": {\"outlinewidth\": 0, \"ticks\": \"\"}, \"type\": \"contourcarpet\"}], \"heatmap\": [{\"colorbar\": {\"outlinewidth\": 0, \"ticks\": \"\"}, \"colorscale\": [[0.0, \"#0d0887\"], [0.1111111111111111, \"#46039f\"], [0.2222222222222222, \"#7201a8\"], [0.3333333333333333, \"#9c179e\"], [0.4444444444444444, \"#bd3786\"], [0.5555555555555556, \"#d8576b\"], [0.6666666666666666, \"#ed7953\"], [0.7777777777777778, \"#fb9f3a\"], [0.8888888888888888, \"#fdca26\"], [1.0, \"#f0f921\"]], \"type\": \"heatmap\"}], \"heatmapgl\": [{\"colorbar\": {\"outlinewidth\": 0, \"ticks\": \"\"}, \"colorscale\": [[0.0, \"#0d0887\"], [0.1111111111111111, \"#46039f\"], [0.2222222222222222, \"#7201a8\"], [0.3333333333333333, \"#9c179e\"], [0.4444444444444444, \"#bd3786\"], [0.5555555555555556, \"#d8576b\"], [0.6666666666666666, \"#ed7953\"], [0.7777777777777778, \"#fb9f3a\"], [0.8888888888888888, \"#fdca26\"], [1.0, \"#f0f921\"]], \"type\": \"heatmapgl\"}], \"histogram\": [{\"marker\": {\"colorbar\": {\"outlinewidth\": 0, \"ticks\": \"\"}}, \"type\": \"histogram\"}], \"histogram2d\": [{\"colorbar\": {\"outlinewidth\": 0, \"ticks\": \"\"}, \"colorscale\": [[0.0, \"#0d0887\"], [0.1111111111111111, \"#46039f\"], [0.2222222222222222, \"#7201a8\"], [0.3333333333333333, \"#9c179e\"], [0.4444444444444444, \"#bd3786\"], [0.5555555555555556, \"#d8576b\"], [0.6666666666666666, \"#ed7953\"], [0.7777777777777778, \"#fb9f3a\"], [0.8888888888888888, \"#fdca26\"], [1.0, \"#f0f921\"]], \"type\": \"histogram2d\"}], \"histogram2dcontour\": [{\"colorbar\": {\"outlinewidth\": 0, \"ticks\": \"\"}, \"colorscale\": [[0.0, \"#0d0887\"], [0.1111111111111111, \"#46039f\"], [0.2222222222222222, \"#7201a8\"], [0.3333333333333333, \"#9c179e\"], [0.4444444444444444, \"#bd3786\"], [0.5555555555555556, \"#d8576b\"], [0.6666666666666666, \"#ed7953\"], [0.7777777777777778, \"#fb9f3a\"], [0.8888888888888888, \"#fdca26\"], [1.0, \"#f0f921\"]], \"type\": \"histogram2dcontour\"}], \"mesh3d\": [{\"colorbar\": {\"outlinewidth\": 0, \"ticks\": \"\"}, \"type\": \"mesh3d\"}], \"parcoords\": [{\"line\": {\"colorbar\": {\"outlinewidth\": 0, \"ticks\": \"\"}}, \"type\": \"parcoords\"}], \"pie\": [{\"automargin\": true, \"type\": \"pie\"}], \"scatter\": [{\"marker\": {\"colorbar\": {\"outlinewidth\": 0, \"ticks\": \"\"}}, \"type\": \"scatter\"}], \"scatter3d\": [{\"line\": {\"colorbar\": {\"outlinewidth\": 0, \"ticks\": \"\"}}, \"marker\": {\"colorbar\": {\"outlinewidth\": 0, \"ticks\": \"\"}}, \"type\": \"scatter3d\"}], \"scattercarpet\": [{\"marker\": {\"colorbar\": {\"outlinewidth\": 0, \"ticks\": \"\"}}, \"type\": \"scattercarpet\"}], \"scattergeo\": [{\"marker\": {\"colorbar\": {\"outlinewidth\": 0, \"ticks\": \"\"}}, \"type\": \"scattergeo\"}], \"scattergl\": [{\"marker\": {\"colorbar\": {\"outlinewidth\": 0, \"ticks\": \"\"}}, \"type\": \"scattergl\"}], \"scattermapbox\": [{\"marker\": {\"colorbar\": {\"outlinewidth\": 0, \"ticks\": \"\"}}, \"type\": \"scattermapbox\"}], \"scatterpolar\": [{\"marker\": {\"colorbar\": {\"outlinewidth\": 0, \"ticks\": \"\"}}, \"type\": \"scatterpolar\"}], \"scatterpolargl\": [{\"marker\": {\"colorbar\": {\"outlinewidth\": 0, \"ticks\": \"\"}}, \"type\": \"scatterpolargl\"}], \"scatterternary\": [{\"marker\": {\"colorbar\": {\"outlinewidth\": 0, \"ticks\": \"\"}}, \"type\": \"scatterternary\"}], \"surface\": [{\"colorbar\": {\"outlinewidth\": 0, \"ticks\": \"\"}, \"colorscale\": [[0.0, \"#0d0887\"], [0.1111111111111111, \"#46039f\"], [0.2222222222222222, \"#7201a8\"], [0.3333333333333333, \"#9c179e\"], [0.4444444444444444, \"#bd3786\"], [0.5555555555555556, \"#d8576b\"], [0.6666666666666666, \"#ed7953\"], [0.7777777777777778, \"#fb9f3a\"], [0.8888888888888888, \"#fdca26\"], [1.0, \"#f0f921\"]], \"type\": \"surface\"}], \"table\": [{\"cells\": {\"fill\": {\"color\": \"#EBF0F8\"}, \"line\": {\"color\": \"white\"}}, \"header\": {\"fill\": {\"color\": \"#C8D4E3\"}, \"line\": {\"color\": \"white\"}}, \"type\": \"table\"}]}, \"layout\": {\"annotationdefaults\": {\"arrowcolor\": \"#2a3f5f\", \"arrowhead\": 0, \"arrowwidth\": 1}, \"autotypenumbers\": \"strict\", \"coloraxis\": {\"colorbar\": {\"outlinewidth\": 0, \"ticks\": \"\"}}, \"colorscale\": {\"diverging\": [[0, \"#8e0152\"], [0.1, \"#c51b7d\"], [0.2, \"#de77ae\"], [0.3, \"#f1b6da\"], [0.4, \"#fde0ef\"], [0.5, \"#f7f7f7\"], [0.6, \"#e6f5d0\"], [0.7, \"#b8e186\"], [0.8, \"#7fbc41\"], [0.9, \"#4d9221\"], [1, \"#276419\"]], \"sequential\": [[0.0, \"#0d0887\"], [0.1111111111111111, \"#46039f\"], [0.2222222222222222, \"#7201a8\"], [0.3333333333333333, \"#9c179e\"], [0.4444444444444444, \"#bd3786\"], [0.5555555555555556, \"#d8576b\"], [0.6666666666666666, \"#ed7953\"], [0.7777777777777778, \"#fb9f3a\"], [0.8888888888888888, \"#fdca26\"], [1.0, \"#f0f921\"]], \"sequentialminus\": [[0.0, \"#0d0887\"], [0.1111111111111111, \"#46039f\"], [0.2222222222222222, \"#7201a8\"], [0.3333333333333333, \"#9c179e\"], [0.4444444444444444, \"#bd3786\"], [0.5555555555555556, \"#d8576b\"], [0.6666666666666666, \"#ed7953\"], [0.7777777777777778, \"#fb9f3a\"], [0.8888888888888888, \"#fdca26\"], [1.0, \"#f0f921\"]]}, \"colorway\": [\"#636efa\", \"#EF553B\", \"#00cc96\", \"#ab63fa\", \"#FFA15A\", \"#19d3f3\", \"#FF6692\", \"#B6E880\", \"#FF97FF\", \"#FECB52\"], \"font\": {\"color\": \"#2a3f5f\"}, \"geo\": {\"bgcolor\": \"white\", \"lakecolor\": \"white\", \"landcolor\": \"#E5ECF6\", \"showlakes\": true, \"showland\": true, \"subunitcolor\": \"white\"}, \"hoverlabel\": {\"align\": \"left\"}, \"hovermode\": \"closest\", \"mapbox\": {\"style\": \"light\"}, \"paper_bgcolor\": \"white\", \"plot_bgcolor\": \"#E5ECF6\", \"polar\": {\"angularaxis\": {\"gridcolor\": \"white\", \"linecolor\": \"white\", \"ticks\": \"\"}, \"bgcolor\": \"#E5ECF6\", \"radialaxis\": {\"gridcolor\": \"white\", \"linecolor\": \"white\", \"ticks\": \"\"}}, \"scene\": {\"xaxis\": {\"backgroundcolor\": \"#E5ECF6\", \"gridcolor\": \"white\", \"gridwidth\": 2, \"linecolor\": \"white\", \"showbackground\": true, \"ticks\": \"\", \"zerolinecolor\": \"white\"}, \"yaxis\": {\"backgroundcolor\": \"#E5ECF6\", \"gridcolor\": \"white\", \"gridwidth\": 2, \"linecolor\": \"white\", \"showbackground\": true, \"ticks\": \"\", \"zerolinecolor\": \"white\"}, \"zaxis\": {\"backgroundcolor\": \"#E5ECF6\", \"gridcolor\": \"white\", \"gridwidth\": 2, \"linecolor\": \"white\", \"showbackground\": true, \"ticks\": \"\", \"zerolinecolor\": \"white\"}}, \"shapedefaults\": {\"line\": {\"color\": \"#2a3f5f\"}}, \"ternary\": {\"aaxis\": {\"gridcolor\": \"white\", \"linecolor\": \"white\", \"ticks\": \"\"}, \"baxis\": {\"gridcolor\": \"white\", \"linecolor\": \"white\", \"ticks\": \"\"}, \"bgcolor\": \"#E5ECF6\", \"caxis\": {\"gridcolor\": \"white\", \"linecolor\": \"white\", \"ticks\": \"\"}}, \"title\": {\"x\": 0.05}, \"xaxis\": {\"automargin\": true, \"gridcolor\": \"white\", \"linecolor\": \"white\", \"ticks\": \"\", \"title\": {\"standoff\": 15}, \"zerolinecolor\": \"white\", \"zerolinewidth\": 2}, \"yaxis\": {\"automargin\": true, \"gridcolor\": \"white\", \"linecolor\": \"white\", \"ticks\": \"\", \"title\": {\"standoff\": 15}, \"zerolinecolor\": \"white\", \"zerolinewidth\": 2}}}},                        {\"responsive\": true}                    ).then(function(){\n",
       "                            \n",
       "var gd = document.getElementById('ee2a0798-4c11-4a14-911c-2680fde0ad3a');\n",
       "var x = new MutationObserver(function (mutations, observer) {{\n",
       "        var display = window.getComputedStyle(gd).display;\n",
       "        if (!display || display === 'none') {{\n",
       "            console.log([gd, 'removed!']);\n",
       "            Plotly.purge(gd);\n",
       "            observer.disconnect();\n",
       "        }}\n",
       "}});\n",
       "\n",
       "// Listen for the removal of the full notebook cells\n",
       "var notebookContainer = gd.closest('#notebook-container');\n",
       "if (notebookContainer) {{\n",
       "    x.observe(notebookContainer, {childList: true});\n",
       "}}\n",
       "\n",
       "// Listen for the clearing of the current output cell\n",
       "var outputEl = gd.closest('.output');\n",
       "if (outputEl) {{\n",
       "    x.observe(outputEl, {childList: true});\n",
       "}}\n",
       "\n",
       "                        })                };                });            </script>        </div>"
      ]
     },
     "metadata": {},
     "output_type": "display_data"
    }
   ],
   "source": [
    "mask = np.ones(model_metrics_df.shape[0]).astype(np.bool)\n",
    "mask &= model_metrics_df.Set == 'val' \n",
    "#mask &= model_metrics_df.R2 > 0.55\n",
    "#mask &= model_metrics_df.MAE < 35\n",
    "mask &= model_metrics_df.CMA_size == 0\n",
    "\n",
    "temp_df = model_metrics_df[mask]\n",
    "\n",
    "fig = px.scatter_3d(temp_df, \n",
    "                    x='MAE', y='Bias', z='Std',\n",
    "                    text='Parameter_file',\n",
    "                    #color=temp_df['Bias_l2_reg'],\n",
    "                    #color=temp_df['Bias_l2_reg'].astype(str),\n",
    "                    color='Epoch'\n",
    "                   )\n",
    "\n",
    "fig.show()"
   ]
  },
  {
   "cell_type": "code",
   "execution_count": 8,
   "metadata": {},
   "outputs": [
    {
     "data": {
      "application/vnd.plotly.v1+json": {
       "config": {
        "plotlyServerURL": "https://plot.ly"
       },
       "data": [
        {
         "hovertemplate": "Model=baseline_CNN<br>MAE=%{x}<br>Bias=%{y}<br>Std=%{z}<br>Parameter_file=%{text}<extra></extra>",
         "legendgroup": "baseline_CNN",
         "marker": {
          "color": "#636efa",
          "symbol": "circle"
         },
         "mode": "markers+text",
         "name": "baseline_CNN",
         "scene": "scene",
         "showlegend": true,
         "text": [
          "BL_test1_control",
          "BL_test1_control",
          "BL_test2",
          "BL_test1",
          "BL_test1",
          "BL_test1",
          "BL_test1",
          "BL_same_size",
          "BL_same_size",
          "BL"
         ],
         "type": "scatter3d",
         "x": [
          31.137,
          31.5953,
          29.8439,
          30.2022,
          31.5,
          31.4847,
          31.6113,
          31.8932,
          31.8932,
          29.785
         ],
         "y": [
          0.3832,
          5.56,
          1.6663,
          0.3256,
          8.7054,
          5.431,
          4.3855,
          2.1403,
          2.1403,
          1.6953
         ],
         "z": [
          41.3858,
          41.1518,
          38.4205,
          38.6071,
          40.5217,
          39.9385,
          41.2197,
          41.5432,
          41.5432,
          38.6778
         ]
        },
        {
         "hovertemplate": "Model=ResNet50V2<br>MAE=%{x}<br>Bias=%{y}<br>Std=%{z}<br>Parameter_file=%{text}<extra></extra>",
         "legendgroup": "ResNet50V2",
         "marker": {
          "color": "#EF553B",
          "symbol": "circle"
         },
         "mode": "markers+text",
         "name": "ResNet50V2",
         "scene": "scene",
         "showlegend": true,
         "text": [
          "RN50V2_same_size",
          "RN50V2_test2",
          "RN50V2_test2",
          "RN50V2_test1",
          "RN50V2_test1",
          "RN50V2",
          "RN50V2_control",
          "RN50V2_control",
          "RN50V2_ss_test1"
         ],
         "type": "scatter3d",
         "x": [
          30.6607,
          31.0299,
          31.7156,
          31.0042,
          31.718,
          30.4753,
          30.5272,
          31.0351,
          31.8454
         ],
         "y": [
          0.7306,
          2.6622,
          9.7744,
          3.8909,
          6.0578,
          3.2001,
          3.8839,
          1.4692,
          2.8169
         ],
         "z": [
          40.633,
          40.8136,
          39.6937,
          40.6012,
          40.4534,
          39.9941,
          39.8275,
          40.6954,
          42.5676
         ]
        },
        {
         "hovertemplate": "Model=Xception<br>MAE=%{x}<br>Bias=%{y}<br>Std=%{z}<br>Parameter_file=%{text}<extra></extra>",
         "legendgroup": "Xception",
         "marker": {
          "color": "#00cc96",
          "symbol": "circle"
         },
         "mode": "markers+text",
         "name": "Xception",
         "scene": "scene",
         "showlegend": true,
         "text": [
          "Xception_test2",
          "Xception_test2",
          "Xception_test2",
          "Xception_control",
          "Xception",
          "Xception",
          "Xception_test1"
         ],
         "type": "scatter3d",
         "x": [
          30.8244,
          31.9265,
          31.9265,
          31.463,
          29.6838,
          29.6838,
          31.0957
         ],
         "y": [
          1.9758,
          6.2217,
          6.2217,
          0.8852,
          3.6691,
          3.6691,
          4.85
         ],
         "z": [
          40.7789,
          41.0416,
          41.0416,
          41.6933,
          39.2976,
          39.2976,
          40.6505
         ]
        },
        {
         "hovertemplate": "Model=Small_baseline_CNN<br>MAE=%{x}<br>Bias=%{y}<br>Std=%{z}<br>Parameter_file=%{text}<extra></extra>",
         "legendgroup": "Small_baseline_CNN",
         "marker": {
          "color": "#ab63fa",
          "symbol": "circle"
         },
         "mode": "markers+text",
         "name": "Small_baseline_CNN",
         "scene": "scene",
         "showlegend": true,
         "text": [
          "Small_BL"
         ],
         "type": "scatter3d",
         "x": [
          31.2348
         ],
         "y": [
          3.6995
         ],
         "z": [
          41.0419
         ]
        }
       ],
       "layout": {
        "autosize": true,
        "dragmode": "zoom",
        "legend": {
         "title": {
          "text": "Model"
         },
         "tracegroupgap": 0
        },
        "margin": {
         "t": 60
        },
        "scene": {
         "aspectmode": "auto",
         "aspectratio": {
          "x": 1,
          "y": 1,
          "z": 1
         },
         "camera": {
          "center": {
           "x": -0.34549707048662237,
           "y": -0.00560853751568955,
           "z": -0.4801432565291896
          },
          "eye": {
           "x": -0.35796431149289176,
           "y": -0.04641199602306869,
           "z": -0.47730240439618643
          },
          "projection": {
           "type": "perspective"
          },
          "up": {
           "x": -0.20982003660651596,
           "y": 0.1315631426040203,
           "z": 0.9688481262543654
          }
         },
         "domain": {
          "x": [
           0,
           1
          ],
          "y": [
           0,
           1
          ]
         },
         "dragmode": "orbit",
         "xaxis": {
          "title": {
           "text": "MAE"
          },
          "type": "linear"
         },
         "yaxis": {
          "title": {
           "text": "Bias"
          },
          "type": "linear"
         },
         "zaxis": {
          "title": {
           "text": "Std"
          },
          "type": "linear"
         }
        },
        "template": {
         "data": {
          "bar": [
           {
            "error_x": {
             "color": "#2a3f5f"
            },
            "error_y": {
             "color": "#2a3f5f"
            },
            "marker": {
             "line": {
              "color": "#E5ECF6",
              "width": 0.5
             }
            },
            "type": "bar"
           }
          ],
          "barpolar": [
           {
            "marker": {
             "line": {
              "color": "#E5ECF6",
              "width": 0.5
             }
            },
            "type": "barpolar"
           }
          ],
          "carpet": [
           {
            "aaxis": {
             "endlinecolor": "#2a3f5f",
             "gridcolor": "white",
             "linecolor": "white",
             "minorgridcolor": "white",
             "startlinecolor": "#2a3f5f"
            },
            "baxis": {
             "endlinecolor": "#2a3f5f",
             "gridcolor": "white",
             "linecolor": "white",
             "minorgridcolor": "white",
             "startlinecolor": "#2a3f5f"
            },
            "type": "carpet"
           }
          ],
          "choropleth": [
           {
            "colorbar": {
             "outlinewidth": 0,
             "ticks": ""
            },
            "type": "choropleth"
           }
          ],
          "contour": [
           {
            "colorbar": {
             "outlinewidth": 0,
             "ticks": ""
            },
            "colorscale": [
             [
              0,
              "#0d0887"
             ],
             [
              0.1111111111111111,
              "#46039f"
             ],
             [
              0.2222222222222222,
              "#7201a8"
             ],
             [
              0.3333333333333333,
              "#9c179e"
             ],
             [
              0.4444444444444444,
              "#bd3786"
             ],
             [
              0.5555555555555556,
              "#d8576b"
             ],
             [
              0.6666666666666666,
              "#ed7953"
             ],
             [
              0.7777777777777778,
              "#fb9f3a"
             ],
             [
              0.8888888888888888,
              "#fdca26"
             ],
             [
              1,
              "#f0f921"
             ]
            ],
            "type": "contour"
           }
          ],
          "contourcarpet": [
           {
            "colorbar": {
             "outlinewidth": 0,
             "ticks": ""
            },
            "type": "contourcarpet"
           }
          ],
          "heatmap": [
           {
            "colorbar": {
             "outlinewidth": 0,
             "ticks": ""
            },
            "colorscale": [
             [
              0,
              "#0d0887"
             ],
             [
              0.1111111111111111,
              "#46039f"
             ],
             [
              0.2222222222222222,
              "#7201a8"
             ],
             [
              0.3333333333333333,
              "#9c179e"
             ],
             [
              0.4444444444444444,
              "#bd3786"
             ],
             [
              0.5555555555555556,
              "#d8576b"
             ],
             [
              0.6666666666666666,
              "#ed7953"
             ],
             [
              0.7777777777777778,
              "#fb9f3a"
             ],
             [
              0.8888888888888888,
              "#fdca26"
             ],
             [
              1,
              "#f0f921"
             ]
            ],
            "type": "heatmap"
           }
          ],
          "heatmapgl": [
           {
            "colorbar": {
             "outlinewidth": 0,
             "ticks": ""
            },
            "colorscale": [
             [
              0,
              "#0d0887"
             ],
             [
              0.1111111111111111,
              "#46039f"
             ],
             [
              0.2222222222222222,
              "#7201a8"
             ],
             [
              0.3333333333333333,
              "#9c179e"
             ],
             [
              0.4444444444444444,
              "#bd3786"
             ],
             [
              0.5555555555555556,
              "#d8576b"
             ],
             [
              0.6666666666666666,
              "#ed7953"
             ],
             [
              0.7777777777777778,
              "#fb9f3a"
             ],
             [
              0.8888888888888888,
              "#fdca26"
             ],
             [
              1,
              "#f0f921"
             ]
            ],
            "type": "heatmapgl"
           }
          ],
          "histogram": [
           {
            "marker": {
             "colorbar": {
              "outlinewidth": 0,
              "ticks": ""
             }
            },
            "type": "histogram"
           }
          ],
          "histogram2d": [
           {
            "colorbar": {
             "outlinewidth": 0,
             "ticks": ""
            },
            "colorscale": [
             [
              0,
              "#0d0887"
             ],
             [
              0.1111111111111111,
              "#46039f"
             ],
             [
              0.2222222222222222,
              "#7201a8"
             ],
             [
              0.3333333333333333,
              "#9c179e"
             ],
             [
              0.4444444444444444,
              "#bd3786"
             ],
             [
              0.5555555555555556,
              "#d8576b"
             ],
             [
              0.6666666666666666,
              "#ed7953"
             ],
             [
              0.7777777777777778,
              "#fb9f3a"
             ],
             [
              0.8888888888888888,
              "#fdca26"
             ],
             [
              1,
              "#f0f921"
             ]
            ],
            "type": "histogram2d"
           }
          ],
          "histogram2dcontour": [
           {
            "colorbar": {
             "outlinewidth": 0,
             "ticks": ""
            },
            "colorscale": [
             [
              0,
              "#0d0887"
             ],
             [
              0.1111111111111111,
              "#46039f"
             ],
             [
              0.2222222222222222,
              "#7201a8"
             ],
             [
              0.3333333333333333,
              "#9c179e"
             ],
             [
              0.4444444444444444,
              "#bd3786"
             ],
             [
              0.5555555555555556,
              "#d8576b"
             ],
             [
              0.6666666666666666,
              "#ed7953"
             ],
             [
              0.7777777777777778,
              "#fb9f3a"
             ],
             [
              0.8888888888888888,
              "#fdca26"
             ],
             [
              1,
              "#f0f921"
             ]
            ],
            "type": "histogram2dcontour"
           }
          ],
          "mesh3d": [
           {
            "colorbar": {
             "outlinewidth": 0,
             "ticks": ""
            },
            "type": "mesh3d"
           }
          ],
          "parcoords": [
           {
            "line": {
             "colorbar": {
              "outlinewidth": 0,
              "ticks": ""
             }
            },
            "type": "parcoords"
           }
          ],
          "pie": [
           {
            "automargin": true,
            "type": "pie"
           }
          ],
          "scatter": [
           {
            "marker": {
             "colorbar": {
              "outlinewidth": 0,
              "ticks": ""
             }
            },
            "type": "scatter"
           }
          ],
          "scatter3d": [
           {
            "line": {
             "colorbar": {
              "outlinewidth": 0,
              "ticks": ""
             }
            },
            "marker": {
             "colorbar": {
              "outlinewidth": 0,
              "ticks": ""
             }
            },
            "type": "scatter3d"
           }
          ],
          "scattercarpet": [
           {
            "marker": {
             "colorbar": {
              "outlinewidth": 0,
              "ticks": ""
             }
            },
            "type": "scattercarpet"
           }
          ],
          "scattergeo": [
           {
            "marker": {
             "colorbar": {
              "outlinewidth": 0,
              "ticks": ""
             }
            },
            "type": "scattergeo"
           }
          ],
          "scattergl": [
           {
            "marker": {
             "colorbar": {
              "outlinewidth": 0,
              "ticks": ""
             }
            },
            "type": "scattergl"
           }
          ],
          "scattermapbox": [
           {
            "marker": {
             "colorbar": {
              "outlinewidth": 0,
              "ticks": ""
             }
            },
            "type": "scattermapbox"
           }
          ],
          "scatterpolar": [
           {
            "marker": {
             "colorbar": {
              "outlinewidth": 0,
              "ticks": ""
             }
            },
            "type": "scatterpolar"
           }
          ],
          "scatterpolargl": [
           {
            "marker": {
             "colorbar": {
              "outlinewidth": 0,
              "ticks": ""
             }
            },
            "type": "scatterpolargl"
           }
          ],
          "scatterternary": [
           {
            "marker": {
             "colorbar": {
              "outlinewidth": 0,
              "ticks": ""
             }
            },
            "type": "scatterternary"
           }
          ],
          "surface": [
           {
            "colorbar": {
             "outlinewidth": 0,
             "ticks": ""
            },
            "colorscale": [
             [
              0,
              "#0d0887"
             ],
             [
              0.1111111111111111,
              "#46039f"
             ],
             [
              0.2222222222222222,
              "#7201a8"
             ],
             [
              0.3333333333333333,
              "#9c179e"
             ],
             [
              0.4444444444444444,
              "#bd3786"
             ],
             [
              0.5555555555555556,
              "#d8576b"
             ],
             [
              0.6666666666666666,
              "#ed7953"
             ],
             [
              0.7777777777777778,
              "#fb9f3a"
             ],
             [
              0.8888888888888888,
              "#fdca26"
             ],
             [
              1,
              "#f0f921"
             ]
            ],
            "type": "surface"
           }
          ],
          "table": [
           {
            "cells": {
             "fill": {
              "color": "#EBF0F8"
             },
             "line": {
              "color": "white"
             }
            },
            "header": {
             "fill": {
              "color": "#C8D4E3"
             },
             "line": {
              "color": "white"
             }
            },
            "type": "table"
           }
          ]
         },
         "layout": {
          "annotationdefaults": {
           "arrowcolor": "#2a3f5f",
           "arrowhead": 0,
           "arrowwidth": 1
          },
          "autotypenumbers": "strict",
          "coloraxis": {
           "colorbar": {
            "outlinewidth": 0,
            "ticks": ""
           }
          },
          "colorscale": {
           "diverging": [
            [
             0,
             "#8e0152"
            ],
            [
             0.1,
             "#c51b7d"
            ],
            [
             0.2,
             "#de77ae"
            ],
            [
             0.3,
             "#f1b6da"
            ],
            [
             0.4,
             "#fde0ef"
            ],
            [
             0.5,
             "#f7f7f7"
            ],
            [
             0.6,
             "#e6f5d0"
            ],
            [
             0.7,
             "#b8e186"
            ],
            [
             0.8,
             "#7fbc41"
            ],
            [
             0.9,
             "#4d9221"
            ],
            [
             1,
             "#276419"
            ]
           ],
           "sequential": [
            [
             0,
             "#0d0887"
            ],
            [
             0.1111111111111111,
             "#46039f"
            ],
            [
             0.2222222222222222,
             "#7201a8"
            ],
            [
             0.3333333333333333,
             "#9c179e"
            ],
            [
             0.4444444444444444,
             "#bd3786"
            ],
            [
             0.5555555555555556,
             "#d8576b"
            ],
            [
             0.6666666666666666,
             "#ed7953"
            ],
            [
             0.7777777777777778,
             "#fb9f3a"
            ],
            [
             0.8888888888888888,
             "#fdca26"
            ],
            [
             1,
             "#f0f921"
            ]
           ],
           "sequentialminus": [
            [
             0,
             "#0d0887"
            ],
            [
             0.1111111111111111,
             "#46039f"
            ],
            [
             0.2222222222222222,
             "#7201a8"
            ],
            [
             0.3333333333333333,
             "#9c179e"
            ],
            [
             0.4444444444444444,
             "#bd3786"
            ],
            [
             0.5555555555555556,
             "#d8576b"
            ],
            [
             0.6666666666666666,
             "#ed7953"
            ],
            [
             0.7777777777777778,
             "#fb9f3a"
            ],
            [
             0.8888888888888888,
             "#fdca26"
            ],
            [
             1,
             "#f0f921"
            ]
           ]
          },
          "colorway": [
           "#636efa",
           "#EF553B",
           "#00cc96",
           "#ab63fa",
           "#FFA15A",
           "#19d3f3",
           "#FF6692",
           "#B6E880",
           "#FF97FF",
           "#FECB52"
          ],
          "font": {
           "color": "#2a3f5f"
          },
          "geo": {
           "bgcolor": "white",
           "lakecolor": "white",
           "landcolor": "#E5ECF6",
           "showlakes": true,
           "showland": true,
           "subunitcolor": "white"
          },
          "hoverlabel": {
           "align": "left"
          },
          "hovermode": "closest",
          "mapbox": {
           "style": "light"
          },
          "paper_bgcolor": "white",
          "plot_bgcolor": "#E5ECF6",
          "polar": {
           "angularaxis": {
            "gridcolor": "white",
            "linecolor": "white",
            "ticks": ""
           },
           "bgcolor": "#E5ECF6",
           "radialaxis": {
            "gridcolor": "white",
            "linecolor": "white",
            "ticks": ""
           }
          },
          "scene": {
           "xaxis": {
            "backgroundcolor": "#E5ECF6",
            "gridcolor": "white",
            "gridwidth": 2,
            "linecolor": "white",
            "showbackground": true,
            "ticks": "",
            "zerolinecolor": "white"
           },
           "yaxis": {
            "backgroundcolor": "#E5ECF6",
            "gridcolor": "white",
            "gridwidth": 2,
            "linecolor": "white",
            "showbackground": true,
            "ticks": "",
            "zerolinecolor": "white"
           },
           "zaxis": {
            "backgroundcolor": "#E5ECF6",
            "gridcolor": "white",
            "gridwidth": 2,
            "linecolor": "white",
            "showbackground": true,
            "ticks": "",
            "zerolinecolor": "white"
           }
          },
          "shapedefaults": {
           "line": {
            "color": "#2a3f5f"
           }
          },
          "ternary": {
           "aaxis": {
            "gridcolor": "white",
            "linecolor": "white",
            "ticks": ""
           },
           "baxis": {
            "gridcolor": "white",
            "linecolor": "white",
            "ticks": ""
           },
           "bgcolor": "#E5ECF6",
           "caxis": {
            "gridcolor": "white",
            "linecolor": "white",
            "ticks": ""
           }
          },
          "title": {
           "x": 0.05
          },
          "xaxis": {
           "automargin": true,
           "gridcolor": "white",
           "linecolor": "white",
           "ticks": "",
           "title": {
            "standoff": 15
           },
           "zerolinecolor": "white",
           "zerolinewidth": 2
          },
          "yaxis": {
           "automargin": true,
           "gridcolor": "white",
           "linecolor": "white",
           "ticks": "",
           "title": {
            "standoff": 15
           },
           "zerolinecolor": "white",
           "zerolinewidth": 2
          }
         }
        }
       }
      },
      "image/png": "[encoded data removed]",
      "text/html": [
       "<div>                            <div id=\"a433b393-2aa0-4419-a175-3987e8062552\" class=\"plotly-graph-div\" style=\"height:525px; width:100%;\"></div>            <script type=\"text/javascript\">                require([\"plotly\"], function(Plotly) {                    window.PLOTLYENV=window.PLOTLYENV || {};                                    if (document.getElementById(\"a433b393-2aa0-4419-a175-3987e8062552\")) {                    Plotly.newPlot(                        \"a433b393-2aa0-4419-a175-3987e8062552\",                        [{\"hovertemplate\": \"Model=baseline_CNN<br>MAE=%{x}<br>Bias=%{y}<br>Std=%{z}<br>Parameter_file=%{text}<extra></extra>\", \"legendgroup\": \"baseline_CNN\", \"marker\": {\"color\": \"#636efa\", \"symbol\": \"circle\"}, \"mode\": \"markers+text\", \"name\": \"baseline_CNN\", \"scene\": \"scene\", \"showlegend\": true, \"text\": [\"BL_test1_control\", \"BL_test1_control\", \"BL_test2\", \"BL_test1\", \"BL_test1\", \"BL_test1\", \"BL_test1\", \"BL_same_size\", \"BL_same_size\", \"BL\"], \"type\": \"scatter3d\", \"x\": [31.137, 31.5953, 29.8439, 30.2022, 31.5, 31.4847, 31.6113, 31.8932, 31.8932, 29.785], \"y\": [0.3832, 5.56, 1.6663, 0.3256, 8.7054, 5.431, 4.3855, 2.1403, 2.1403, 1.6953], \"z\": [41.3858, 41.1518, 38.4205, 38.6071, 40.5217, 39.9385, 41.2197, 41.5432, 41.5432, 38.6778]}, {\"hovertemplate\": \"Model=ResNet50V2<br>MAE=%{x}<br>Bias=%{y}<br>Std=%{z}<br>Parameter_file=%{text}<extra></extra>\", \"legendgroup\": \"ResNet50V2\", \"marker\": {\"color\": \"#EF553B\", \"symbol\": \"circle\"}, \"mode\": \"markers+text\", \"name\": \"ResNet50V2\", \"scene\": \"scene\", \"showlegend\": true, \"text\": [\"RN50V2_same_size\", \"RN50V2_test2\", \"RN50V2_test2\", \"RN50V2_test1\", \"RN50V2_test1\", \"RN50V2\", \"RN50V2_control\", \"RN50V2_control\", \"RN50V2_ss_test1\"], \"type\": \"scatter3d\", \"x\": [30.6607, 31.0299, 31.7156, 31.0042, 31.718, 30.4753, 30.5272, 31.0351, 31.8454], \"y\": [0.7306, 2.6622, 9.7744, 3.8909, 6.0578, 3.2001, 3.8839, 1.4692, 2.8169], \"z\": [40.633, 40.8136, 39.6937, 40.6012, 40.4534, 39.9941, 39.8275, 40.6954, 42.5676]}, {\"hovertemplate\": \"Model=Xception<br>MAE=%{x}<br>Bias=%{y}<br>Std=%{z}<br>Parameter_file=%{text}<extra></extra>\", \"legendgroup\": \"Xception\", \"marker\": {\"color\": \"#00cc96\", \"symbol\": \"circle\"}, \"mode\": \"markers+text\", \"name\": \"Xception\", \"scene\": \"scene\", \"showlegend\": true, \"text\": [\"Xception_test2\", \"Xception_test2\", \"Xception_test2\", \"Xception_control\", \"Xception\", \"Xception\", \"Xception_test1\"], \"type\": \"scatter3d\", \"x\": [30.8244, 31.9265, 31.9265, 31.463, 29.6838, 29.6838, 31.0957], \"y\": [1.9758, 6.2217, 6.2217, 0.8852, 3.6691, 3.6691, 4.85], \"z\": [40.7789, 41.0416, 41.0416, 41.6933, 39.2976, 39.2976, 40.6505]}, {\"hovertemplate\": \"Model=Small_baseline_CNN<br>MAE=%{x}<br>Bias=%{y}<br>Std=%{z}<br>Parameter_file=%{text}<extra></extra>\", \"legendgroup\": \"Small_baseline_CNN\", \"marker\": {\"color\": \"#ab63fa\", \"symbol\": \"circle\"}, \"mode\": \"markers+text\", \"name\": \"Small_baseline_CNN\", \"scene\": \"scene\", \"showlegend\": true, \"text\": [\"Small_BL\"], \"type\": \"scatter3d\", \"x\": [31.2348], \"y\": [3.6995], \"z\": [41.0419]}],                        {\"legend\": {\"title\": {\"text\": \"Model\"}, \"tracegroupgap\": 0}, \"margin\": {\"t\": 60}, \"scene\": {\"domain\": {\"x\": [0.0, 1.0], \"y\": [0.0, 1.0]}, \"xaxis\": {\"title\": {\"text\": \"MAE\"}}, \"yaxis\": {\"title\": {\"text\": \"Bias\"}}, \"zaxis\": {\"title\": {\"text\": \"Std\"}}}, \"template\": {\"data\": {\"bar\": [{\"error_x\": {\"color\": \"#2a3f5f\"}, \"error_y\": {\"color\": \"#2a3f5f\"}, \"marker\": {\"line\": {\"color\": \"#E5ECF6\", \"width\": 0.5}}, \"type\": \"bar\"}], \"barpolar\": [{\"marker\": {\"line\": {\"color\": \"#E5ECF6\", \"width\": 0.5}}, \"type\": \"barpolar\"}], \"carpet\": [{\"aaxis\": {\"endlinecolor\": \"#2a3f5f\", \"gridcolor\": \"white\", \"linecolor\": \"white\", \"minorgridcolor\": \"white\", \"startlinecolor\": \"#2a3f5f\"}, \"baxis\": {\"endlinecolor\": \"#2a3f5f\", \"gridcolor\": \"white\", \"linecolor\": \"white\", \"minorgridcolor\": \"white\", \"startlinecolor\": \"#2a3f5f\"}, \"type\": \"carpet\"}], \"choropleth\": [{\"colorbar\": {\"outlinewidth\": 0, \"ticks\": \"\"}, \"type\": \"choropleth\"}], \"contour\": [{\"colorbar\": {\"outlinewidth\": 0, \"ticks\": \"\"}, \"colorscale\": [[0.0, \"#0d0887\"], [0.1111111111111111, \"#46039f\"], [0.2222222222222222, \"#7201a8\"], [0.3333333333333333, \"#9c179e\"], [0.4444444444444444, \"#bd3786\"], [0.5555555555555556, \"#d8576b\"], [0.6666666666666666, \"#ed7953\"], [0.7777777777777778, \"#fb9f3a\"], [0.8888888888888888, \"#fdca26\"], [1.0, \"#f0f921\"]], \"type\": \"contour\"}], \"contourcarpet\": [{\"colorbar\": {\"outlinewidth\": 0, \"ticks\": \"\"}, \"type\": \"contourcarpet\"}], \"heatmap\": [{\"colorbar\": {\"outlinewidth\": 0, \"ticks\": \"\"}, \"colorscale\": [[0.0, \"#0d0887\"], [0.1111111111111111, \"#46039f\"], [0.2222222222222222, \"#7201a8\"], [0.3333333333333333, \"#9c179e\"], [0.4444444444444444, \"#bd3786\"], [0.5555555555555556, \"#d8576b\"], [0.6666666666666666, \"#ed7953\"], [0.7777777777777778, \"#fb9f3a\"], [0.8888888888888888, \"#fdca26\"], [1.0, \"#f0f921\"]], \"type\": \"heatmap\"}], \"heatmapgl\": [{\"colorbar\": {\"outlinewidth\": 0, \"ticks\": \"\"}, \"colorscale\": [[0.0, \"#0d0887\"], [0.1111111111111111, \"#46039f\"], [0.2222222222222222, \"#7201a8\"], [0.3333333333333333, \"#9c179e\"], [0.4444444444444444, \"#bd3786\"], [0.5555555555555556, \"#d8576b\"], [0.6666666666666666, \"#ed7953\"], [0.7777777777777778, \"#fb9f3a\"], [0.8888888888888888, \"#fdca26\"], [1.0, \"#f0f921\"]], \"type\": \"heatmapgl\"}], \"histogram\": [{\"marker\": {\"colorbar\": {\"outlinewidth\": 0, \"ticks\": \"\"}}, \"type\": \"histogram\"}], \"histogram2d\": [{\"colorbar\": {\"outlinewidth\": 0, \"ticks\": \"\"}, \"colorscale\": [[0.0, \"#0d0887\"], [0.1111111111111111, \"#46039f\"], [0.2222222222222222, \"#7201a8\"], [0.3333333333333333, \"#9c179e\"], [0.4444444444444444, \"#bd3786\"], [0.5555555555555556, \"#d8576b\"], [0.6666666666666666, \"#ed7953\"], [0.7777777777777778, \"#fb9f3a\"], [0.8888888888888888, \"#fdca26\"], [1.0, \"#f0f921\"]], \"type\": \"histogram2d\"}], \"histogram2dcontour\": [{\"colorbar\": {\"outlinewidth\": 0, \"ticks\": \"\"}, \"colorscale\": [[0.0, \"#0d0887\"], [0.1111111111111111, \"#46039f\"], [0.2222222222222222, \"#7201a8\"], [0.3333333333333333, \"#9c179e\"], [0.4444444444444444, \"#bd3786\"], [0.5555555555555556, \"#d8576b\"], [0.6666666666666666, \"#ed7953\"], [0.7777777777777778, \"#fb9f3a\"], [0.8888888888888888, \"#fdca26\"], [1.0, \"#f0f921\"]], \"type\": \"histogram2dcontour\"}], \"mesh3d\": [{\"colorbar\": {\"outlinewidth\": 0, \"ticks\": \"\"}, \"type\": \"mesh3d\"}], \"parcoords\": [{\"line\": {\"colorbar\": {\"outlinewidth\": 0, \"ticks\": \"\"}}, \"type\": \"parcoords\"}], \"pie\": [{\"automargin\": true, \"type\": \"pie\"}], \"scatter\": [{\"marker\": {\"colorbar\": {\"outlinewidth\": 0, \"ticks\": \"\"}}, \"type\": \"scatter\"}], \"scatter3d\": [{\"line\": {\"colorbar\": {\"outlinewidth\": 0, \"ticks\": \"\"}}, \"marker\": {\"colorbar\": {\"outlinewidth\": 0, \"ticks\": \"\"}}, \"type\": \"scatter3d\"}], \"scattercarpet\": [{\"marker\": {\"colorbar\": {\"outlinewidth\": 0, \"ticks\": \"\"}}, \"type\": \"scattercarpet\"}], \"scattergeo\": [{\"marker\": {\"colorbar\": {\"outlinewidth\": 0, \"ticks\": \"\"}}, \"type\": \"scattergeo\"}], \"scattergl\": [{\"marker\": {\"colorbar\": {\"outlinewidth\": 0, \"ticks\": \"\"}}, \"type\": \"scattergl\"}], \"scattermapbox\": [{\"marker\": {\"colorbar\": {\"outlinewidth\": 0, \"ticks\": \"\"}}, \"type\": \"scattermapbox\"}], \"scatterpolar\": [{\"marker\": {\"colorbar\": {\"outlinewidth\": 0, \"ticks\": \"\"}}, \"type\": \"scatterpolar\"}], \"scatterpolargl\": [{\"marker\": {\"colorbar\": {\"outlinewidth\": 0, \"ticks\": \"\"}}, \"type\": \"scatterpolargl\"}], \"scatterternary\": [{\"marker\": {\"colorbar\": {\"outlinewidth\": 0, \"ticks\": \"\"}}, \"type\": \"scatterternary\"}], \"surface\": [{\"colorbar\": {\"outlinewidth\": 0, \"ticks\": \"\"}, \"colorscale\": [[0.0, \"#0d0887\"], [0.1111111111111111, \"#46039f\"], [0.2222222222222222, \"#7201a8\"], [0.3333333333333333, \"#9c179e\"], [0.4444444444444444, \"#bd3786\"], [0.5555555555555556, \"#d8576b\"], [0.6666666666666666, \"#ed7953\"], [0.7777777777777778, \"#fb9f3a\"], [0.8888888888888888, \"#fdca26\"], [1.0, \"#f0f921\"]], \"type\": \"surface\"}], \"table\": [{\"cells\": {\"fill\": {\"color\": \"#EBF0F8\"}, \"line\": {\"color\": \"white\"}}, \"header\": {\"fill\": {\"color\": \"#C8D4E3\"}, \"line\": {\"color\": \"white\"}}, \"type\": \"table\"}]}, \"layout\": {\"annotationdefaults\": {\"arrowcolor\": \"#2a3f5f\", \"arrowhead\": 0, \"arrowwidth\": 1}, \"autotypenumbers\": \"strict\", \"coloraxis\": {\"colorbar\": {\"outlinewidth\": 0, \"ticks\": \"\"}}, \"colorscale\": {\"diverging\": [[0, \"#8e0152\"], [0.1, \"#c51b7d\"], [0.2, \"#de77ae\"], [0.3, \"#f1b6da\"], [0.4, \"#fde0ef\"], [0.5, \"#f7f7f7\"], [0.6, \"#e6f5d0\"], [0.7, \"#b8e186\"], [0.8, \"#7fbc41\"], [0.9, \"#4d9221\"], [1, \"#276419\"]], \"sequential\": [[0.0, \"#0d0887\"], [0.1111111111111111, \"#46039f\"], [0.2222222222222222, \"#7201a8\"], [0.3333333333333333, \"#9c179e\"], [0.4444444444444444, \"#bd3786\"], [0.5555555555555556, \"#d8576b\"], [0.6666666666666666, \"#ed7953\"], [0.7777777777777778, \"#fb9f3a\"], [0.8888888888888888, \"#fdca26\"], [1.0, \"#f0f921\"]], \"sequentialminus\": [[0.0, \"#0d0887\"], [0.1111111111111111, \"#46039f\"], [0.2222222222222222, \"#7201a8\"], [0.3333333333333333, \"#9c179e\"], [0.4444444444444444, \"#bd3786\"], [0.5555555555555556, \"#d8576b\"], [0.6666666666666666, \"#ed7953\"], [0.7777777777777778, \"#fb9f3a\"], [0.8888888888888888, \"#fdca26\"], [1.0, \"#f0f921\"]]}, \"colorway\": [\"#636efa\", \"#EF553B\", \"#00cc96\", \"#ab63fa\", \"#FFA15A\", \"#19d3f3\", \"#FF6692\", \"#B6E880\", \"#FF97FF\", \"#FECB52\"], \"font\": {\"color\": \"#2a3f5f\"}, \"geo\": {\"bgcolor\": \"white\", \"lakecolor\": \"white\", \"landcolor\": \"#E5ECF6\", \"showlakes\": true, \"showland\": true, \"subunitcolor\": \"white\"}, \"hoverlabel\": {\"align\": \"left\"}, \"hovermode\": \"closest\", \"mapbox\": {\"style\": \"light\"}, \"paper_bgcolor\": \"white\", \"plot_bgcolor\": \"#E5ECF6\", \"polar\": {\"angularaxis\": {\"gridcolor\": \"white\", \"linecolor\": \"white\", \"ticks\": \"\"}, \"bgcolor\": \"#E5ECF6\", \"radialaxis\": {\"gridcolor\": \"white\", \"linecolor\": \"white\", \"ticks\": \"\"}}, \"scene\": {\"xaxis\": {\"backgroundcolor\": \"#E5ECF6\", \"gridcolor\": \"white\", \"gridwidth\": 2, \"linecolor\": \"white\", \"showbackground\": true, \"ticks\": \"\", \"zerolinecolor\": \"white\"}, \"yaxis\": {\"backgroundcolor\": \"#E5ECF6\", \"gridcolor\": \"white\", \"gridwidth\": 2, \"linecolor\": \"white\", \"showbackground\": true, \"ticks\": \"\", \"zerolinecolor\": \"white\"}, \"zaxis\": {\"backgroundcolor\": \"#E5ECF6\", \"gridcolor\": \"white\", \"gridwidth\": 2, \"linecolor\": \"white\", \"showbackground\": true, \"ticks\": \"\", \"zerolinecolor\": \"white\"}}, \"shapedefaults\": {\"line\": {\"color\": \"#2a3f5f\"}}, \"ternary\": {\"aaxis\": {\"gridcolor\": \"white\", \"linecolor\": \"white\", \"ticks\": \"\"}, \"baxis\": {\"gridcolor\": \"white\", \"linecolor\": \"white\", \"ticks\": \"\"}, \"bgcolor\": \"#E5ECF6\", \"caxis\": {\"gridcolor\": \"white\", \"linecolor\": \"white\", \"ticks\": \"\"}}, \"title\": {\"x\": 0.05}, \"xaxis\": {\"automargin\": true, \"gridcolor\": \"white\", \"linecolor\": \"white\", \"ticks\": \"\", \"title\": {\"standoff\": 15}, \"zerolinecolor\": \"white\", \"zerolinewidth\": 2}, \"yaxis\": {\"automargin\": true, \"gridcolor\": \"white\", \"linecolor\": \"white\", \"ticks\": \"\", \"title\": {\"standoff\": 15}, \"zerolinecolor\": \"white\", \"zerolinewidth\": 2}}}},                        {\"responsive\": true}                    ).then(function(){\n",
       "                            \n",
       "var gd = document.getElementById('a433b393-2aa0-4419-a175-3987e8062552');\n",
       "var x = new MutationObserver(function (mutations, observer) {{\n",
       "        var display = window.getComputedStyle(gd).display;\n",
       "        if (!display || display === 'none') {{\n",
       "            console.log([gd, 'removed!']);\n",
       "            Plotly.purge(gd);\n",
       "            observer.disconnect();\n",
       "        }}\n",
       "}});\n",
       "\n",
       "// Listen for the removal of the full notebook cells\n",
       "var notebookContainer = gd.closest('#notebook-container');\n",
       "if (notebookContainer) {{\n",
       "    x.observe(notebookContainer, {childList: true});\n",
       "}}\n",
       "\n",
       "// Listen for the clearing of the current output cell\n",
       "var outputEl = gd.closest('.output');\n",
       "if (outputEl) {{\n",
       "    x.observe(outputEl, {childList: true});\n",
       "}}\n",
       "\n",
       "                        })                };                });            </script>        </div>"
      ]
     },
     "metadata": {},
     "output_type": "display_data"
    }
   ],
   "source": [
    "mask = (model_metrics_df.Set == 'val') & (model_metrics_df.MAE < 32)\n",
    "temp_df = model_metrics_df[mask]\n",
    "\n",
    "fig = px.scatter_3d(temp_df, \n",
    "                    x='MAE', y='Bias', z='Std',\n",
    "                    text='Parameter_file',\n",
    "                    #color=temp_df['CMA_size'].astype(str))\n",
    "                    color='Model')\n",
    "fig.show()"
   ]
  },
  {
   "cell_type": "code",
   "execution_count": 7,
   "metadata": {},
   "outputs": [
    {
     "data": {
      "application/vnd.plotly.v1+json": {
       "config": {
        "plotlyServerURL": "https://plot.ly"
       },
       "data": [
        {
         "hovertemplate": "MAE=%{x}<br>Bias=%{y}<br>Std=%{z}<br>index=%{text}<br>Dense_L2_reg=%{marker.color}<extra></extra>",
         "legendgroup": "",
         "marker": {
          "color": [
           0,
           0,
           0,
           0,
           0.005,
           0.005,
           0.005,
           0.005,
           0.001,
           0.001,
           0.001,
           0.001,
           0.001,
           0.001,
           0.001,
           0.001,
           0,
           0,
           0,
           0,
           0,
           0,
           0,
           0,
           0,
           0,
           0,
           0,
           0.001,
           0.001,
           0.001,
           0.001,
           0,
           0,
           0,
           0
          ],
          "coloraxis": "coloraxis",
          "symbol": "circle"
         },
         "mode": "markers+text",
         "name": "",
         "scene": "scene",
         "showlegend": false,
         "text": [
          2,
          5,
          8,
          11,
          14,
          17,
          20,
          23,
          26,
          29,
          32,
          35,
          38,
          41,
          44,
          47,
          50,
          53,
          56,
          59,
          62,
          65,
          68,
          71,
          74,
          77,
          80,
          83,
          86,
          89,
          92,
          95,
          98,
          101,
          104,
          107
         ],
         "type": "scatter3d",
         "x": [
          30.6607,
          33.0821,
          33.6599,
          38.2581,
          29.8439,
          40.516,
          34.3562,
          47.6832,
          31.0042,
          31.718000000000004,
          35.747,
          32.8284,
          30.2022,
          31.5,
          31.4847,
          31.6113,
          30.4753,
          34.0548,
          35.629,
          32.6675,
          31.8932,
          35.3251,
          31.8932,
          33.9316,
          29.6838,
          34.1139,
          29.6838,
          34.1932,
          31.0957,
          35.9465,
          36.701,
          34.2849,
          29.785,
          39.1048,
          32.7946,
          35.8085
         ],
         "y": [
          0.7306,
          3.1196,
          12.8688,
          16.0623,
          1.6663,
          29.8901,
          17.839000000000002,
          36.6624,
          3.8909,
          6.0578,
          20.3417,
          12.5792,
          0.3256,
          8.7054,
          5.431,
          4.3855,
          3.2001,
          16.4417,
          4.9023,
          9.2086,
          2.1403,
          1.1546,
          2.1403,
          5.9216,
          3.6691,
          11.4726,
          3.6691,
          13.2045,
          4.85,
          19.1509,
          20.7775,
          9.9572,
          1.6953,
          28.5356,
          4.1936,
          9.6087
         ],
         "z": [
          40.633,
          44.3103,
          42.8669,
          47.1811,
          38.4205,
          41.5883,
          41.7976,
          49.7779,
          40.6012,
          40.4534,
          40.8822,
          41.2624,
          38.6071,
          40.5217,
          39.9385,
          41.2197,
          39.9941,
          41.0465,
          45.611000000000004,
          41.3671,
          41.5432,
          45.5141,
          41.5432,
          43.3219,
          39.2976,
          44.3642,
          39.2976,
          42.5739,
          40.6505,
          42.4538,
          41.8619,
          43.5906,
          38.6778,
          40.9448,
          44.8438,
          47.9882
         ]
        }
       ],
       "layout": {
        "autosize": true,
        "coloraxis": {
         "colorbar": {
          "title": {
           "text": "Dense_L2_reg"
          }
         },
         "colorscale": [
          [
           0,
           "#0d0887"
          ],
          [
           0.1111111111111111,
           "#46039f"
          ],
          [
           0.2222222222222222,
           "#7201a8"
          ],
          [
           0.3333333333333333,
           "#9c179e"
          ],
          [
           0.4444444444444444,
           "#bd3786"
          ],
          [
           0.5555555555555556,
           "#d8576b"
          ],
          [
           0.6666666666666666,
           "#ed7953"
          ],
          [
           0.7777777777777778,
           "#fb9f3a"
          ],
          [
           0.8888888888888888,
           "#fdca26"
          ],
          [
           1,
           "#f0f921"
          ]
         ]
        },
        "legend": {
         "tracegroupgap": 0
        },
        "margin": {
         "t": 60
        },
        "scene": {
         "aspectmode": "auto",
         "aspectratio": {
          "x": 0.9224938627832777,
          "y": 1.8623106877553366,
          "z": 0.5820822803635013
         },
         "camera": {
          "center": {
           "x": 0,
           "y": 0,
           "z": 0
          },
          "eye": {
           "x": 1.6420583110902596,
           "y": 1.6420583110902593,
           "z": 1.6420583110902593
          },
          "projection": {
           "type": "perspective"
          },
          "up": {
           "x": 0,
           "y": 0,
           "z": 1
          }
         },
         "domain": {
          "x": [
           0,
           1
          ],
          "y": [
           0,
           1
          ]
         },
         "xaxis": {
          "title": {
           "text": "MAE"
          },
          "type": "linear"
         },
         "yaxis": {
          "title": {
           "text": "Bias"
          },
          "type": "linear"
         },
         "zaxis": {
          "title": {
           "text": "Std"
          },
          "type": "linear"
         }
        },
        "template": {
         "data": {
          "bar": [
           {
            "error_x": {
             "color": "#2a3f5f"
            },
            "error_y": {
             "color": "#2a3f5f"
            },
            "marker": {
             "line": {
              "color": "#E5ECF6",
              "width": 0.5
             }
            },
            "type": "bar"
           }
          ],
          "barpolar": [
           {
            "marker": {
             "line": {
              "color": "#E5ECF6",
              "width": 0.5
             }
            },
            "type": "barpolar"
           }
          ],
          "carpet": [
           {
            "aaxis": {
             "endlinecolor": "#2a3f5f",
             "gridcolor": "white",
             "linecolor": "white",
             "minorgridcolor": "white",
             "startlinecolor": "#2a3f5f"
            },
            "baxis": {
             "endlinecolor": "#2a3f5f",
             "gridcolor": "white",
             "linecolor": "white",
             "minorgridcolor": "white",
             "startlinecolor": "#2a3f5f"
            },
            "type": "carpet"
           }
          ],
          "choropleth": [
           {
            "colorbar": {
             "outlinewidth": 0,
             "ticks": ""
            },
            "type": "choropleth"
           }
          ],
          "contour": [
           {
            "colorbar": {
             "outlinewidth": 0,
             "ticks": ""
            },
            "colorscale": [
             [
              0,
              "#0d0887"
             ],
             [
              0.1111111111111111,
              "#46039f"
             ],
             [
              0.2222222222222222,
              "#7201a8"
             ],
             [
              0.3333333333333333,
              "#9c179e"
             ],
             [
              0.4444444444444444,
              "#bd3786"
             ],
             [
              0.5555555555555556,
              "#d8576b"
             ],
             [
              0.6666666666666666,
              "#ed7953"
             ],
             [
              0.7777777777777778,
              "#fb9f3a"
             ],
             [
              0.8888888888888888,
              "#fdca26"
             ],
             [
              1,
              "#f0f921"
             ]
            ],
            "type": "contour"
           }
          ],
          "contourcarpet": [
           {
            "colorbar": {
             "outlinewidth": 0,
             "ticks": ""
            },
            "type": "contourcarpet"
           }
          ],
          "heatmap": [
           {
            "colorbar": {
             "outlinewidth": 0,
             "ticks": ""
            },
            "colorscale": [
             [
              0,
              "#0d0887"
             ],
             [
              0.1111111111111111,
              "#46039f"
             ],
             [
              0.2222222222222222,
              "#7201a8"
             ],
             [
              0.3333333333333333,
              "#9c179e"
             ],
             [
              0.4444444444444444,
              "#bd3786"
             ],
             [
              0.5555555555555556,
              "#d8576b"
             ],
             [
              0.6666666666666666,
              "#ed7953"
             ],
             [
              0.7777777777777778,
              "#fb9f3a"
             ],
             [
              0.8888888888888888,
              "#fdca26"
             ],
             [
              1,
              "#f0f921"
             ]
            ],
            "type": "heatmap"
           }
          ],
          "heatmapgl": [
           {
            "colorbar": {
             "outlinewidth": 0,
             "ticks": ""
            },
            "colorscale": [
             [
              0,
              "#0d0887"
             ],
             [
              0.1111111111111111,
              "#46039f"
             ],
             [
              0.2222222222222222,
              "#7201a8"
             ],
             [
              0.3333333333333333,
              "#9c179e"
             ],
             [
              0.4444444444444444,
              "#bd3786"
             ],
             [
              0.5555555555555556,
              "#d8576b"
             ],
             [
              0.6666666666666666,
              "#ed7953"
             ],
             [
              0.7777777777777778,
              "#fb9f3a"
             ],
             [
              0.8888888888888888,
              "#fdca26"
             ],
             [
              1,
              "#f0f921"
             ]
            ],
            "type": "heatmapgl"
           }
          ],
          "histogram": [
           {
            "marker": {
             "colorbar": {
              "outlinewidth": 0,
              "ticks": ""
             }
            },
            "type": "histogram"
           }
          ],
          "histogram2d": [
           {
            "colorbar": {
             "outlinewidth": 0,
             "ticks": ""
            },
            "colorscale": [
             [
              0,
              "#0d0887"
             ],
             [
              0.1111111111111111,
              "#46039f"
             ],
             [
              0.2222222222222222,
              "#7201a8"
             ],
             [
              0.3333333333333333,
              "#9c179e"
             ],
             [
              0.4444444444444444,
              "#bd3786"
             ],
             [
              0.5555555555555556,
              "#d8576b"
             ],
             [
              0.6666666666666666,
              "#ed7953"
             ],
             [
              0.7777777777777778,
              "#fb9f3a"
             ],
             [
              0.8888888888888888,
              "#fdca26"
             ],
             [
              1,
              "#f0f921"
             ]
            ],
            "type": "histogram2d"
           }
          ],
          "histogram2dcontour": [
           {
            "colorbar": {
             "outlinewidth": 0,
             "ticks": ""
            },
            "colorscale": [
             [
              0,
              "#0d0887"
             ],
             [
              0.1111111111111111,
              "#46039f"
             ],
             [
              0.2222222222222222,
              "#7201a8"
             ],
             [
              0.3333333333333333,
              "#9c179e"
             ],
             [
              0.4444444444444444,
              "#bd3786"
             ],
             [
              0.5555555555555556,
              "#d8576b"
             ],
             [
              0.6666666666666666,
              "#ed7953"
             ],
             [
              0.7777777777777778,
              "#fb9f3a"
             ],
             [
              0.8888888888888888,
              "#fdca26"
             ],
             [
              1,
              "#f0f921"
             ]
            ],
            "type": "histogram2dcontour"
           }
          ],
          "mesh3d": [
           {
            "colorbar": {
             "outlinewidth": 0,
             "ticks": ""
            },
            "type": "mesh3d"
           }
          ],
          "parcoords": [
           {
            "line": {
             "colorbar": {
              "outlinewidth": 0,
              "ticks": ""
             }
            },
            "type": "parcoords"
           }
          ],
          "pie": [
           {
            "automargin": true,
            "type": "pie"
           }
          ],
          "scatter": [
           {
            "marker": {
             "colorbar": {
              "outlinewidth": 0,
              "ticks": ""
             }
            },
            "type": "scatter"
           }
          ],
          "scatter3d": [
           {
            "line": {
             "colorbar": {
              "outlinewidth": 0,
              "ticks": ""
             }
            },
            "marker": {
             "colorbar": {
              "outlinewidth": 0,
              "ticks": ""
             }
            },
            "type": "scatter3d"
           }
          ],
          "scattercarpet": [
           {
            "marker": {
             "colorbar": {
              "outlinewidth": 0,
              "ticks": ""
             }
            },
            "type": "scattercarpet"
           }
          ],
          "scattergeo": [
           {
            "marker": {
             "colorbar": {
              "outlinewidth": 0,
              "ticks": ""
             }
            },
            "type": "scattergeo"
           }
          ],
          "scattergl": [
           {
            "marker": {
             "colorbar": {
              "outlinewidth": 0,
              "ticks": ""
             }
            },
            "type": "scattergl"
           }
          ],
          "scattermapbox": [
           {
            "marker": {
             "colorbar": {
              "outlinewidth": 0,
              "ticks": ""
             }
            },
            "type": "scattermapbox"
           }
          ],
          "scatterpolar": [
           {
            "marker": {
             "colorbar": {
              "outlinewidth": 0,
              "ticks": ""
             }
            },
            "type": "scatterpolar"
           }
          ],
          "scatterpolargl": [
           {
            "marker": {
             "colorbar": {
              "outlinewidth": 0,
              "ticks": ""
             }
            },
            "type": "scatterpolargl"
           }
          ],
          "scatterternary": [
           {
            "marker": {
             "colorbar": {
              "outlinewidth": 0,
              "ticks": ""
             }
            },
            "type": "scatterternary"
           }
          ],
          "surface": [
           {
            "colorbar": {
             "outlinewidth": 0,
             "ticks": ""
            },
            "colorscale": [
             [
              0,
              "#0d0887"
             ],
             [
              0.1111111111111111,
              "#46039f"
             ],
             [
              0.2222222222222222,
              "#7201a8"
             ],
             [
              0.3333333333333333,
              "#9c179e"
             ],
             [
              0.4444444444444444,
              "#bd3786"
             ],
             [
              0.5555555555555556,
              "#d8576b"
             ],
             [
              0.6666666666666666,
              "#ed7953"
             ],
             [
              0.7777777777777778,
              "#fb9f3a"
             ],
             [
              0.8888888888888888,
              "#fdca26"
             ],
             [
              1,
              "#f0f921"
             ]
            ],
            "type": "surface"
           }
          ],
          "table": [
           {
            "cells": {
             "fill": {
              "color": "#EBF0F8"
             },
             "line": {
              "color": "white"
             }
            },
            "header": {
             "fill": {
              "color": "#C8D4E3"
             },
             "line": {
              "color": "white"
             }
            },
            "type": "table"
           }
          ]
         },
         "layout": {
          "annotationdefaults": {
           "arrowcolor": "#2a3f5f",
           "arrowhead": 0,
           "arrowwidth": 1
          },
          "autotypenumbers": "strict",
          "coloraxis": {
           "colorbar": {
            "outlinewidth": 0,
            "ticks": ""
           }
          },
          "colorscale": {
           "diverging": [
            [
             0,
             "#8e0152"
            ],
            [
             0.1,
             "#c51b7d"
            ],
            [
             0.2,
             "#de77ae"
            ],
            [
             0.3,
             "#f1b6da"
            ],
            [
             0.4,
             "#fde0ef"
            ],
            [
             0.5,
             "#f7f7f7"
            ],
            [
             0.6,
             "#e6f5d0"
            ],
            [
             0.7,
             "#b8e186"
            ],
            [
             0.8,
             "#7fbc41"
            ],
            [
             0.9,
             "#4d9221"
            ],
            [
             1,
             "#276419"
            ]
           ],
           "sequential": [
            [
             0,
             "#0d0887"
            ],
            [
             0.1111111111111111,
             "#46039f"
            ],
            [
             0.2222222222222222,
             "#7201a8"
            ],
            [
             0.3333333333333333,
             "#9c179e"
            ],
            [
             0.4444444444444444,
             "#bd3786"
            ],
            [
             0.5555555555555556,
             "#d8576b"
            ],
            [
             0.6666666666666666,
             "#ed7953"
            ],
            [
             0.7777777777777778,
             "#fb9f3a"
            ],
            [
             0.8888888888888888,
             "#fdca26"
            ],
            [
             1,
             "#f0f921"
            ]
           ],
           "sequentialminus": [
            [
             0,
             "#0d0887"
            ],
            [
             0.1111111111111111,
             "#46039f"
            ],
            [
             0.2222222222222222,
             "#7201a8"
            ],
            [
             0.3333333333333333,
             "#9c179e"
            ],
            [
             0.4444444444444444,
             "#bd3786"
            ],
            [
             0.5555555555555556,
             "#d8576b"
            ],
            [
             0.6666666666666666,
             "#ed7953"
            ],
            [
             0.7777777777777778,
             "#fb9f3a"
            ],
            [
             0.8888888888888888,
             "#fdca26"
            ],
            [
             1,
             "#f0f921"
            ]
           ]
          },
          "colorway": [
           "#636efa",
           "#EF553B",
           "#00cc96",
           "#ab63fa",
           "#FFA15A",
           "#19d3f3",
           "#FF6692",
           "#B6E880",
           "#FF97FF",
           "#FECB52"
          ],
          "font": {
           "color": "#2a3f5f"
          },
          "geo": {
           "bgcolor": "white",
           "lakecolor": "white",
           "landcolor": "#E5ECF6",
           "showlakes": true,
           "showland": true,
           "subunitcolor": "white"
          },
          "hoverlabel": {
           "align": "left"
          },
          "hovermode": "closest",
          "mapbox": {
           "style": "light"
          },
          "paper_bgcolor": "white",
          "plot_bgcolor": "#E5ECF6",
          "polar": {
           "angularaxis": {
            "gridcolor": "white",
            "linecolor": "white",
            "ticks": ""
           },
           "bgcolor": "#E5ECF6",
           "radialaxis": {
            "gridcolor": "white",
            "linecolor": "white",
            "ticks": ""
           }
          },
          "scene": {
           "xaxis": {
            "backgroundcolor": "#E5ECF6",
            "gridcolor": "white",
            "gridwidth": 2,
            "linecolor": "white",
            "showbackground": true,
            "ticks": "",
            "zerolinecolor": "white"
           },
           "yaxis": {
            "backgroundcolor": "#E5ECF6",
            "gridcolor": "white",
            "gridwidth": 2,
            "linecolor": "white",
            "showbackground": true,
            "ticks": "",
            "zerolinecolor": "white"
           },
           "zaxis": {
            "backgroundcolor": "#E5ECF6",
            "gridcolor": "white",
            "gridwidth": 2,
            "linecolor": "white",
            "showbackground": true,
            "ticks": "",
            "zerolinecolor": "white"
           }
          },
          "shapedefaults": {
           "line": {
            "color": "#2a3f5f"
           }
          },
          "ternary": {
           "aaxis": {
            "gridcolor": "white",
            "linecolor": "white",
            "ticks": ""
           },
           "baxis": {
            "gridcolor": "white",
            "linecolor": "white",
            "ticks": ""
           },
           "bgcolor": "#E5ECF6",
           "caxis": {
            "gridcolor": "white",
            "linecolor": "white",
            "ticks": ""
           }
          },
          "title": {
           "x": 0.05
          },
          "xaxis": {
           "automargin": true,
           "gridcolor": "white",
           "linecolor": "white",
           "ticks": "",
           "title": {
            "standoff": 15
           },
           "zerolinecolor": "white",
           "zerolinewidth": 2
          },
          "yaxis": {
           "automargin": true,
           "gridcolor": "white",
           "linecolor": "white",
           "ticks": "",
           "title": {
            "standoff": 15
           },
           "zerolinecolor": "white",
           "zerolinewidth": 2
          }
         }
        }
       }
      },
      "image/png": "[encoded data removed]",
      "text/html": [
       "<div>                            <div id=\"e363094d-f588-41bb-8280-d1d4e4e66014\" class=\"plotly-graph-div\" style=\"height:525px; width:100%;\"></div>            <script type=\"text/javascript\">                require([\"plotly\"], function(Plotly) {                    window.PLOTLYENV=window.PLOTLYENV || {};                                    if (document.getElementById(\"e363094d-f588-41bb-8280-d1d4e4e66014\")) {                    Plotly.newPlot(                        \"e363094d-f588-41bb-8280-d1d4e4e66014\",                        [{\"hovertemplate\": \"MAE=%{x}<br>Bias=%{y}<br>Std=%{z}<br>index=%{text}<br>Dense_L2_reg=%{marker.color}<extra></extra>\", \"legendgroup\": \"\", \"marker\": {\"color\": [0.0, 0.0, 0.0, 0.0, 0.005, 0.005, 0.005, 0.005, 0.001, 0.001, 0.001, 0.001, 0.001, 0.001, 0.001, 0.001, 0.0, 0.0, 0.0, 0.0, 0.0, 0.0, 0.0, 0.0, 0.0, 0.0, 0.0, 0.0, 0.001, 0.001, 0.001, 0.001, 0.0, 0.0, 0.0, 0.0], \"coloraxis\": \"coloraxis\", \"symbol\": \"circle\"}, \"mode\": \"markers+text\", \"name\": \"\", \"scene\": \"scene\", \"showlegend\": false, \"text\": [2.0, 5.0, 8.0, 11.0, 14.0, 17.0, 20.0, 23.0, 26.0, 29.0, 32.0, 35.0, 38.0, 41.0, 44.0, 47.0, 50.0, 53.0, 56.0, 59.0, 62.0, 65.0, 68.0, 71.0, 74.0, 77.0, 80.0, 83.0, 86.0, 89.0, 92.0, 95.0, 98.0, 101.0, 104.0, 107.0], \"type\": \"scatter3d\", \"x\": [30.6607, 33.0821, 33.6599, 38.2581, 29.8439, 40.516, 34.3562, 47.6832, 31.0042, 31.718000000000004, 35.747, 32.8284, 30.2022, 31.5, 31.4847, 31.6113, 30.4753, 34.0548, 35.629, 32.6675, 31.8932, 35.3251, 31.8932, 33.9316, 29.6838, 34.1139, 29.6838, 34.1932, 31.0957, 35.9465, 36.701, 34.2849, 29.785, 39.1048, 32.7946, 35.8085], \"y\": [0.7306, 3.1196, 12.8688, 16.0623, 1.6663, 29.8901, 17.839000000000002, 36.6624, 3.8909, 6.0578, 20.3417, 12.5792, 0.3256, 8.7054, 5.431, 4.3855, 3.2001, 16.4417, 4.9023, 9.2086, 2.1403, 1.1546, 2.1403, 5.9216, 3.6691, 11.4726, 3.6691, 13.2045, 4.85, 19.1509, 20.7775, 9.9572, 1.6953, 28.5356, 4.1936, 9.6087], \"z\": [40.633, 44.3103, 42.8669, 47.1811, 38.4205, 41.5883, 41.7976, 49.7779, 40.6012, 40.4534, 40.8822, 41.2624, 38.6071, 40.5217, 39.9385, 41.2197, 39.9941, 41.0465, 45.611000000000004, 41.3671, 41.5432, 45.5141, 41.5432, 43.3219, 39.2976, 44.3642, 39.2976, 42.5739, 40.6505, 42.4538, 41.8619, 43.5906, 38.6778, 40.9448, 44.8438, 47.9882]}],                        {\"coloraxis\": {\"colorbar\": {\"title\": {\"text\": \"Dense_L2_reg\"}}, \"colorscale\": [[0.0, \"#0d0887\"], [0.1111111111111111, \"#46039f\"], [0.2222222222222222, \"#7201a8\"], [0.3333333333333333, \"#9c179e\"], [0.4444444444444444, \"#bd3786\"], [0.5555555555555556, \"#d8576b\"], [0.6666666666666666, \"#ed7953\"], [0.7777777777777778, \"#fb9f3a\"], [0.8888888888888888, \"#fdca26\"], [1.0, \"#f0f921\"]]}, \"legend\": {\"tracegroupgap\": 0}, \"margin\": {\"t\": 60}, \"scene\": {\"domain\": {\"x\": [0.0, 1.0], \"y\": [0.0, 1.0]}, \"xaxis\": {\"title\": {\"text\": \"MAE\"}}, \"yaxis\": {\"title\": {\"text\": \"Bias\"}}, \"zaxis\": {\"title\": {\"text\": \"Std\"}}}, \"template\": {\"data\": {\"bar\": [{\"error_x\": {\"color\": \"#2a3f5f\"}, \"error_y\": {\"color\": \"#2a3f5f\"}, \"marker\": {\"line\": {\"color\": \"#E5ECF6\", \"width\": 0.5}}, \"type\": \"bar\"}], \"barpolar\": [{\"marker\": {\"line\": {\"color\": \"#E5ECF6\", \"width\": 0.5}}, \"type\": \"barpolar\"}], \"carpet\": [{\"aaxis\": {\"endlinecolor\": \"#2a3f5f\", \"gridcolor\": \"white\", \"linecolor\": \"white\", \"minorgridcolor\": \"white\", \"startlinecolor\": \"#2a3f5f\"}, \"baxis\": {\"endlinecolor\": \"#2a3f5f\", \"gridcolor\": \"white\", \"linecolor\": \"white\", \"minorgridcolor\": \"white\", \"startlinecolor\": \"#2a3f5f\"}, \"type\": \"carpet\"}], \"choropleth\": [{\"colorbar\": {\"outlinewidth\": 0, \"ticks\": \"\"}, \"type\": \"choropleth\"}], \"contour\": [{\"colorbar\": {\"outlinewidth\": 0, \"ticks\": \"\"}, \"colorscale\": [[0.0, \"#0d0887\"], [0.1111111111111111, \"#46039f\"], [0.2222222222222222, \"#7201a8\"], [0.3333333333333333, \"#9c179e\"], [0.4444444444444444, \"#bd3786\"], [0.5555555555555556, \"#d8576b\"], [0.6666666666666666, \"#ed7953\"], [0.7777777777777778, \"#fb9f3a\"], [0.8888888888888888, \"#fdca26\"], [1.0, \"#f0f921\"]], \"type\": \"contour\"}], \"contourcarpet\": [{\"colorbar\": {\"outlinewidth\": 0, \"ticks\": \"\"}, \"type\": \"contourcarpet\"}], \"heatmap\": [{\"colorbar\": {\"outlinewidth\": 0, \"ticks\": \"\"}, \"colorscale\": [[0.0, \"#0d0887\"], [0.1111111111111111, \"#46039f\"], [0.2222222222222222, \"#7201a8\"], [0.3333333333333333, \"#9c179e\"], [0.4444444444444444, \"#bd3786\"], [0.5555555555555556, \"#d8576b\"], [0.6666666666666666, \"#ed7953\"], [0.7777777777777778, \"#fb9f3a\"], [0.8888888888888888, \"#fdca26\"], [1.0, \"#f0f921\"]], \"type\": \"heatmap\"}], \"heatmapgl\": [{\"colorbar\": {\"outlinewidth\": 0, \"ticks\": \"\"}, \"colorscale\": [[0.0, \"#0d0887\"], [0.1111111111111111, \"#46039f\"], [0.2222222222222222, \"#7201a8\"], [0.3333333333333333, \"#9c179e\"], [0.4444444444444444, \"#bd3786\"], [0.5555555555555556, \"#d8576b\"], [0.6666666666666666, \"#ed7953\"], [0.7777777777777778, \"#fb9f3a\"], [0.8888888888888888, \"#fdca26\"], [1.0, \"#f0f921\"]], \"type\": \"heatmapgl\"}], \"histogram\": [{\"marker\": {\"colorbar\": {\"outlinewidth\": 0, \"ticks\": \"\"}}, \"type\": \"histogram\"}], \"histogram2d\": [{\"colorbar\": {\"outlinewidth\": 0, \"ticks\": \"\"}, \"colorscale\": [[0.0, \"#0d0887\"], [0.1111111111111111, \"#46039f\"], [0.2222222222222222, \"#7201a8\"], [0.3333333333333333, \"#9c179e\"], [0.4444444444444444, \"#bd3786\"], [0.5555555555555556, \"#d8576b\"], [0.6666666666666666, \"#ed7953\"], [0.7777777777777778, \"#fb9f3a\"], [0.8888888888888888, \"#fdca26\"], [1.0, \"#f0f921\"]], \"type\": \"histogram2d\"}], \"histogram2dcontour\": [{\"colorbar\": {\"outlinewidth\": 0, \"ticks\": \"\"}, \"colorscale\": [[0.0, \"#0d0887\"], [0.1111111111111111, \"#46039f\"], [0.2222222222222222, \"#7201a8\"], [0.3333333333333333, \"#9c179e\"], [0.4444444444444444, \"#bd3786\"], [0.5555555555555556, \"#d8576b\"], [0.6666666666666666, \"#ed7953\"], [0.7777777777777778, \"#fb9f3a\"], [0.8888888888888888, \"#fdca26\"], [1.0, \"#f0f921\"]], \"type\": \"histogram2dcontour\"}], \"mesh3d\": [{\"colorbar\": {\"outlinewidth\": 0, \"ticks\": \"\"}, \"type\": \"mesh3d\"}], \"parcoords\": [{\"line\": {\"colorbar\": {\"outlinewidth\": 0, \"ticks\": \"\"}}, \"type\": \"parcoords\"}], \"pie\": [{\"automargin\": true, \"type\": \"pie\"}], \"scatter\": [{\"marker\": {\"colorbar\": {\"outlinewidth\": 0, \"ticks\": \"\"}}, \"type\": \"scatter\"}], \"scatter3d\": [{\"line\": {\"colorbar\": {\"outlinewidth\": 0, \"ticks\": \"\"}}, \"marker\": {\"colorbar\": {\"outlinewidth\": 0, \"ticks\": \"\"}}, \"type\": \"scatter3d\"}], \"scattercarpet\": [{\"marker\": {\"colorbar\": {\"outlinewidth\": 0, \"ticks\": \"\"}}, \"type\": \"scattercarpet\"}], \"scattergeo\": [{\"marker\": {\"colorbar\": {\"outlinewidth\": 0, \"ticks\": \"\"}}, \"type\": \"scattergeo\"}], \"scattergl\": [{\"marker\": {\"colorbar\": {\"outlinewidth\": 0, \"ticks\": \"\"}}, \"type\": \"scattergl\"}], \"scattermapbox\": [{\"marker\": {\"colorbar\": {\"outlinewidth\": 0, \"ticks\": \"\"}}, \"type\": \"scattermapbox\"}], \"scatterpolar\": [{\"marker\": {\"colorbar\": {\"outlinewidth\": 0, \"ticks\": \"\"}}, \"type\": \"scatterpolar\"}], \"scatterpolargl\": [{\"marker\": {\"colorbar\": {\"outlinewidth\": 0, \"ticks\": \"\"}}, \"type\": \"scatterpolargl\"}], \"scatterternary\": [{\"marker\": {\"colorbar\": {\"outlinewidth\": 0, \"ticks\": \"\"}}, \"type\": \"scatterternary\"}], \"surface\": [{\"colorbar\": {\"outlinewidth\": 0, \"ticks\": \"\"}, \"colorscale\": [[0.0, \"#0d0887\"], [0.1111111111111111, \"#46039f\"], [0.2222222222222222, \"#7201a8\"], [0.3333333333333333, \"#9c179e\"], [0.4444444444444444, \"#bd3786\"], [0.5555555555555556, \"#d8576b\"], [0.6666666666666666, \"#ed7953\"], [0.7777777777777778, \"#fb9f3a\"], [0.8888888888888888, \"#fdca26\"], [1.0, \"#f0f921\"]], \"type\": \"surface\"}], \"table\": [{\"cells\": {\"fill\": {\"color\": \"#EBF0F8\"}, \"line\": {\"color\": \"white\"}}, \"header\": {\"fill\": {\"color\": \"#C8D4E3\"}, \"line\": {\"color\": \"white\"}}, \"type\": \"table\"}]}, \"layout\": {\"annotationdefaults\": {\"arrowcolor\": \"#2a3f5f\", \"arrowhead\": 0, \"arrowwidth\": 1}, \"autotypenumbers\": \"strict\", \"coloraxis\": {\"colorbar\": {\"outlinewidth\": 0, \"ticks\": \"\"}}, \"colorscale\": {\"diverging\": [[0, \"#8e0152\"], [0.1, \"#c51b7d\"], [0.2, \"#de77ae\"], [0.3, \"#f1b6da\"], [0.4, \"#fde0ef\"], [0.5, \"#f7f7f7\"], [0.6, \"#e6f5d0\"], [0.7, \"#b8e186\"], [0.8, \"#7fbc41\"], [0.9, \"#4d9221\"], [1, \"#276419\"]], \"sequential\": [[0.0, \"#0d0887\"], [0.1111111111111111, \"#46039f\"], [0.2222222222222222, \"#7201a8\"], [0.3333333333333333, \"#9c179e\"], [0.4444444444444444, \"#bd3786\"], [0.5555555555555556, \"#d8576b\"], [0.6666666666666666, \"#ed7953\"], [0.7777777777777778, \"#fb9f3a\"], [0.8888888888888888, \"#fdca26\"], [1.0, \"#f0f921\"]], \"sequentialminus\": [[0.0, \"#0d0887\"], [0.1111111111111111, \"#46039f\"], [0.2222222222222222, \"#7201a8\"], [0.3333333333333333, \"#9c179e\"], [0.4444444444444444, \"#bd3786\"], [0.5555555555555556, \"#d8576b\"], [0.6666666666666666, \"#ed7953\"], [0.7777777777777778, \"#fb9f3a\"], [0.8888888888888888, \"#fdca26\"], [1.0, \"#f0f921\"]]}, \"colorway\": [\"#636efa\", \"#EF553B\", \"#00cc96\", \"#ab63fa\", \"#FFA15A\", \"#19d3f3\", \"#FF6692\", \"#B6E880\", \"#FF97FF\", \"#FECB52\"], \"font\": {\"color\": \"#2a3f5f\"}, \"geo\": {\"bgcolor\": \"white\", \"lakecolor\": \"white\", \"landcolor\": \"#E5ECF6\", \"showlakes\": true, \"showland\": true, \"subunitcolor\": \"white\"}, \"hoverlabel\": {\"align\": \"left\"}, \"hovermode\": \"closest\", \"mapbox\": {\"style\": \"light\"}, \"paper_bgcolor\": \"white\", \"plot_bgcolor\": \"#E5ECF6\", \"polar\": {\"angularaxis\": {\"gridcolor\": \"white\", \"linecolor\": \"white\", \"ticks\": \"\"}, \"bgcolor\": \"#E5ECF6\", \"radialaxis\": {\"gridcolor\": \"white\", \"linecolor\": \"white\", \"ticks\": \"\"}}, \"scene\": {\"xaxis\": {\"backgroundcolor\": \"#E5ECF6\", \"gridcolor\": \"white\", \"gridwidth\": 2, \"linecolor\": \"white\", \"showbackground\": true, \"ticks\": \"\", \"zerolinecolor\": \"white\"}, \"yaxis\": {\"backgroundcolor\": \"#E5ECF6\", \"gridcolor\": \"white\", \"gridwidth\": 2, \"linecolor\": \"white\", \"showbackground\": true, \"ticks\": \"\", \"zerolinecolor\": \"white\"}, \"zaxis\": {\"backgroundcolor\": \"#E5ECF6\", \"gridcolor\": \"white\", \"gridwidth\": 2, \"linecolor\": \"white\", \"showbackground\": true, \"ticks\": \"\", \"zerolinecolor\": \"white\"}}, \"shapedefaults\": {\"line\": {\"color\": \"#2a3f5f\"}}, \"ternary\": {\"aaxis\": {\"gridcolor\": \"white\", \"linecolor\": \"white\", \"ticks\": \"\"}, \"baxis\": {\"gridcolor\": \"white\", \"linecolor\": \"white\", \"ticks\": \"\"}, \"bgcolor\": \"#E5ECF6\", \"caxis\": {\"gridcolor\": \"white\", \"linecolor\": \"white\", \"ticks\": \"\"}}, \"title\": {\"x\": 0.05}, \"xaxis\": {\"automargin\": true, \"gridcolor\": \"white\", \"linecolor\": \"white\", \"ticks\": \"\", \"title\": {\"standoff\": 15}, \"zerolinecolor\": \"white\", \"zerolinewidth\": 2}, \"yaxis\": {\"automargin\": true, \"gridcolor\": \"white\", \"linecolor\": \"white\", \"ticks\": \"\", \"title\": {\"standoff\": 15}, \"zerolinecolor\": \"white\", \"zerolinewidth\": 2}}}},                        {\"responsive\": true}                    ).then(function(){\n",
       "                            \n",
       "var gd = document.getElementById('e363094d-f588-41bb-8280-d1d4e4e66014');\n",
       "var x = new MutationObserver(function (mutations, observer) {{\n",
       "        var display = window.getComputedStyle(gd).display;\n",
       "        if (!display || display === 'none') {{\n",
       "            console.log([gd, 'removed!']);\n",
       "            Plotly.purge(gd);\n",
       "            observer.disconnect();\n",
       "        }}\n",
       "}});\n",
       "\n",
       "// Listen for the removal of the full notebook cells\n",
       "var notebookContainer = gd.closest('#notebook-container');\n",
       "if (notebookContainer) {{\n",
       "    x.observe(notebookContainer, {childList: true});\n",
       "}}\n",
       "\n",
       "// Listen for the clearing of the current output cell\n",
       "var outputEl = gd.closest('.output');\n",
       "if (outputEl) {{\n",
       "    x.observe(outputEl, {childList: true});\n",
       "}}\n",
       "\n",
       "                        })                };                });            </script>        </div>"
      ]
     },
     "metadata": {},
     "output_type": "display_data"
    }
   ],
   "source": [
    "fig = px.scatter_3d(model_metrics_df[mask].reset_index(), \n",
    "                    x='MAE', y='Bias', z='Std',\n",
    "                    text='index',\n",
    "                    color='Dense_L2_reg')\n",
    "fig.show()"
   ]
  },
  {
   "cell_type": "code",
   "execution_count": 12,
   "metadata": {},
   "outputs": [
    {
     "data": {
      "text/html": [
       "<div>\n",
       "<style scoped>\n",
       "    .dataframe tbody tr th:only-of-type {\n",
       "        vertical-align: middle;\n",
       "    }\n",
       "\n",
       "    .dataframe tbody tr th {\n",
       "        vertical-align: top;\n",
       "    }\n",
       "\n",
       "    .dataframe thead th {\n",
       "        text-align: right;\n",
       "    }\n",
       "</style>\n",
       "<table border=\"1\" class=\"dataframe\">\n",
       "  <thead>\n",
       "    <tr style=\"text-align: right;\">\n",
       "      <th></th>\n",
       "      <th>Model</th>\n",
       "      <th>Loss</th>\n",
       "      <th>lr</th>\n",
       "      <th>N_Epochs</th>\n",
       "      <th>Conv_L1_reg</th>\n",
       "      <th>Conv_L2_reg</th>\n",
       "      <th>Dense_L1_reg</th>\n",
       "      <th>Dense_L2_reg</th>\n",
       "      <th>PreTrained</th>\n",
       "      <th>Set</th>\n",
       "      <th>Bias</th>\n",
       "      <th>Std</th>\n",
       "      <th>R2</th>\n",
       "      <th>MAE</th>\n",
       "      <th>MSE</th>\n",
       "      <th>Huber</th>\n",
       "      <th>CMA_size</th>\n",
       "      <th>CMA</th>\n",
       "      <th>CMA_Std</th>\n",
       "      <th>Epoch</th>\n",
       "      <th>Parameters_file_path</th>\n",
       "      <th>Parameter_file</th>\n",
       "    </tr>\n",
       "  </thead>\n",
       "  <tbody>\n",
       "    <tr>\n",
       "      <th>50</th>\n",
       "      <td>ResNet50V2</td>\n",
       "      <td>huber</td>\n",
       "      <td>0.001</td>\n",
       "      <td>450</td>\n",
       "      <td>0</td>\n",
       "      <td>0</td>\n",
       "      <td>0.0000</td>\n",
       "      <td>0.000</td>\n",
       "      <td>1</td>\n",
       "      <td>val</td>\n",
       "      <td>3.2001</td>\n",
       "      <td>39.9941</td>\n",
       "      <td>0.5860</td>\n",
       "      <td>30.4753</td>\n",
       "      <td>1605.4481</td>\n",
       "      <td>29.9800</td>\n",
       "      <td>0</td>\n",
       "      <td>30.4753</td>\n",
       "      <td>0.0</td>\n",
       "      <td>301</td>\n",
       "      <td>/storage/groups/ml01/code/andres.becker/master...</td>\n",
       "      <td>RN50V2</td>\n",
       "    </tr>\n",
       "    <tr>\n",
       "      <th>2</th>\n",
       "      <td>ResNet50V2</td>\n",
       "      <td>huber</td>\n",
       "      <td>0.001</td>\n",
       "      <td>450</td>\n",
       "      <td>0</td>\n",
       "      <td>0</td>\n",
       "      <td>0.0000</td>\n",
       "      <td>0.000</td>\n",
       "      <td>1</td>\n",
       "      <td>val</td>\n",
       "      <td>0.7306</td>\n",
       "      <td>40.6330</td>\n",
       "      <td>0.5753</td>\n",
       "      <td>30.6607</td>\n",
       "      <td>1647.1150</td>\n",
       "      <td>30.1656</td>\n",
       "      <td>0</td>\n",
       "      <td>30.6607</td>\n",
       "      <td>0.0</td>\n",
       "      <td>240</td>\n",
       "      <td>/storage/groups/ml01/code/andres.becker/master...</td>\n",
       "      <td>RN50V2_same_size</td>\n",
       "    </tr>\n",
       "    <tr>\n",
       "      <th>26</th>\n",
       "      <td>ResNet50V2</td>\n",
       "      <td>huber</td>\n",
       "      <td>0.001</td>\n",
       "      <td>450</td>\n",
       "      <td>0</td>\n",
       "      <td>0</td>\n",
       "      <td>0.0001</td>\n",
       "      <td>0.001</td>\n",
       "      <td>1</td>\n",
       "      <td>val</td>\n",
       "      <td>3.8909</td>\n",
       "      <td>40.6012</td>\n",
       "      <td>0.5722</td>\n",
       "      <td>31.0042</td>\n",
       "      <td>1659.1368</td>\n",
       "      <td>30.5067</td>\n",
       "      <td>0</td>\n",
       "      <td>31.0042</td>\n",
       "      <td>0.0</td>\n",
       "      <td>287</td>\n",
       "      <td>/storage/groups/ml01/code/andres.becker/master...</td>\n",
       "      <td>RN50V2_test1</td>\n",
       "    </tr>\n",
       "  </tbody>\n",
       "</table>\n",
       "</div>"
      ],
      "text/plain": [
       "         Model   Loss     lr  N_Epochs  Conv_L1_reg  Conv_L2_reg  \\\n",
       "50  ResNet50V2  huber  0.001       450            0            0   \n",
       "2   ResNet50V2  huber  0.001       450            0            0   \n",
       "26  ResNet50V2  huber  0.001       450            0            0   \n",
       "\n",
       "    Dense_L1_reg  Dense_L2_reg  PreTrained  Set    Bias      Std      R2  \\\n",
       "50        0.0000         0.000           1  val  3.2001  39.9941  0.5860   \n",
       "2         0.0000         0.000           1  val  0.7306  40.6330  0.5753   \n",
       "26        0.0001         0.001           1  val  3.8909  40.6012  0.5722   \n",
       "\n",
       "        MAE        MSE    Huber  CMA_size      CMA  CMA_Std  Epoch  \\\n",
       "50  30.4753  1605.4481  29.9800         0  30.4753      0.0    301   \n",
       "2   30.6607  1647.1150  30.1656         0  30.6607      0.0    240   \n",
       "26  31.0042  1659.1368  30.5067         0  31.0042      0.0    287   \n",
       "\n",
       "                                 Parameters_file_path    Parameter_file  \n",
       "50  /storage/groups/ml01/code/andres.becker/master...            RN50V2  \n",
       "2   /storage/groups/ml01/code/andres.becker/master...  RN50V2_same_size  \n",
       "26  /storage/groups/ml01/code/andres.becker/master...      RN50V2_test1  "
      ]
     },
     "execution_count": 12,
     "metadata": {},
     "output_type": "execute_result"
    }
   ],
   "source": [
    "model_metrics_df.loc[[26, 50, 2]].sort_values(by=['MAE', 'Bias', 'Std'])"
   ]
  },
  {
   "cell_type": "code",
   "execution_count": 8,
   "metadata": {},
   "outputs": [
    {
     "data": {
      "text/html": [
       "<div>\n",
       "<style scoped>\n",
       "    .dataframe tbody tr th:only-of-type {\n",
       "        vertical-align: middle;\n",
       "    }\n",
       "\n",
       "    .dataframe tbody tr th {\n",
       "        vertical-align: top;\n",
       "    }\n",
       "\n",
       "    .dataframe thead th {\n",
       "        text-align: right;\n",
       "    }\n",
       "</style>\n",
       "<table border=\"1\" class=\"dataframe\">\n",
       "  <thead>\n",
       "    <tr style=\"text-align: right;\">\n",
       "      <th></th>\n",
       "      <th>Model</th>\n",
       "      <th>Loss</th>\n",
       "      <th>lr</th>\n",
       "      <th>N_Epochs</th>\n",
       "      <th>Conv_L1_reg</th>\n",
       "      <th>Conv_L2_reg</th>\n",
       "      <th>Dense_L1_reg</th>\n",
       "      <th>Dense_L2_reg</th>\n",
       "      <th>PreTrained</th>\n",
       "      <th>Set</th>\n",
       "      <th>Bias</th>\n",
       "      <th>Std</th>\n",
       "      <th>R2</th>\n",
       "      <th>MAE</th>\n",
       "      <th>MSE</th>\n",
       "      <th>Huber</th>\n",
       "      <th>CMA_size</th>\n",
       "      <th>CMA</th>\n",
       "      <th>CMA_Std</th>\n",
       "      <th>Epoch</th>\n",
       "      <th>Parameters_file_path</th>\n",
       "      <th>Parameter_file</th>\n",
       "    </tr>\n",
       "  </thead>\n",
       "  <tbody>\n",
       "    <tr>\n",
       "      <th>158</th>\n",
       "      <td>Xception</td>\n",
       "      <td>huber</td>\n",
       "      <td>0.001</td>\n",
       "      <td>450</td>\n",
       "      <td>0</td>\n",
       "      <td>0</td>\n",
       "      <td>0.0000</td>\n",
       "      <td>0.000</td>\n",
       "      <td>1</td>\n",
       "      <td>val</td>\n",
       "      <td>3.6691</td>\n",
       "      <td>39.2976</td>\n",
       "      <td>0.5994</td>\n",
       "      <td>29.6838</td>\n",
       "      <td>1553.5901</td>\n",
       "      <td>29.1902</td>\n",
       "      <td>0</td>\n",
       "      <td>29.6838</td>\n",
       "      <td>0.0000</td>\n",
       "      <td>274</td>\n",
       "      <td>/storage/groups/ml01/code/andres.becker/master...</td>\n",
       "      <td>Xception</td>\n",
       "    </tr>\n",
       "    <tr>\n",
       "      <th>164</th>\n",
       "      <td>Xception</td>\n",
       "      <td>huber</td>\n",
       "      <td>0.001</td>\n",
       "      <td>450</td>\n",
       "      <td>0</td>\n",
       "      <td>0</td>\n",
       "      <td>0.0000</td>\n",
       "      <td>0.000</td>\n",
       "      <td>1</td>\n",
       "      <td>val</td>\n",
       "      <td>3.6691</td>\n",
       "      <td>39.2976</td>\n",
       "      <td>0.5994</td>\n",
       "      <td>29.6838</td>\n",
       "      <td>1553.5901</td>\n",
       "      <td>29.1902</td>\n",
       "      <td>21</td>\n",
       "      <td>33.8687</td>\n",
       "      <td>3.0378</td>\n",
       "      <td>274</td>\n",
       "      <td>/storage/groups/ml01/code/andres.becker/master...</td>\n",
       "      <td>Xception</td>\n",
       "    </tr>\n",
       "    <tr>\n",
       "      <th>38</th>\n",
       "      <td>Xception</td>\n",
       "      <td>huber</td>\n",
       "      <td>0.001</td>\n",
       "      <td>450</td>\n",
       "      <td>0</td>\n",
       "      <td>0</td>\n",
       "      <td>0.0000</td>\n",
       "      <td>0.000</td>\n",
       "      <td>0</td>\n",
       "      <td>val</td>\n",
       "      <td>1.9758</td>\n",
       "      <td>40.7789</td>\n",
       "      <td>0.5713</td>\n",
       "      <td>30.8244</td>\n",
       "      <td>1662.3310</td>\n",
       "      <td>30.3288</td>\n",
       "      <td>0</td>\n",
       "      <td>30.8244</td>\n",
       "      <td>0.0000</td>\n",
       "      <td>142</td>\n",
       "      <td>/storage/groups/ml01/code/andres.becker/master...</td>\n",
       "      <td>Xception_test2</td>\n",
       "    </tr>\n",
       "    <tr>\n",
       "      <th>170</th>\n",
       "      <td>Xception</td>\n",
       "      <td>mean_absolute_error</td>\n",
       "      <td>0.001</td>\n",
       "      <td>450</td>\n",
       "      <td>0</td>\n",
       "      <td>0</td>\n",
       "      <td>0.0001</td>\n",
       "      <td>0.001</td>\n",
       "      <td>1</td>\n",
       "      <td>val</td>\n",
       "      <td>4.8500</td>\n",
       "      <td>40.6505</td>\n",
       "      <td>0.5690</td>\n",
       "      <td>31.0957</td>\n",
       "      <td>1671.5178</td>\n",
       "      <td>30.5983</td>\n",
       "      <td>0</td>\n",
       "      <td>31.0957</td>\n",
       "      <td>0.0000</td>\n",
       "      <td>121</td>\n",
       "      <td>/storage/groups/ml01/code/andres.becker/master...</td>\n",
       "      <td>Xception_test1</td>\n",
       "    </tr>\n",
       "    <tr>\n",
       "      <th>122</th>\n",
       "      <td>Xception</td>\n",
       "      <td>huber</td>\n",
       "      <td>0.001</td>\n",
       "      <td>450</td>\n",
       "      <td>0</td>\n",
       "      <td>0</td>\n",
       "      <td>0.0000</td>\n",
       "      <td>0.000</td>\n",
       "      <td>1</td>\n",
       "      <td>val</td>\n",
       "      <td>0.8852</td>\n",
       "      <td>41.6933</td>\n",
       "      <td>0.5527</td>\n",
       "      <td>31.4630</td>\n",
       "      <td>1734.4144</td>\n",
       "      <td>30.9654</td>\n",
       "      <td>0</td>\n",
       "      <td>31.4630</td>\n",
       "      <td>0.0000</td>\n",
       "      <td>273</td>\n",
       "      <td>/storage/groups/ml01/code/andres.becker/master...</td>\n",
       "      <td>Xception_control</td>\n",
       "    </tr>\n",
       "    <tr>\n",
       "      <th>44</th>\n",
       "      <td>Xception</td>\n",
       "      <td>huber</td>\n",
       "      <td>0.001</td>\n",
       "      <td>450</td>\n",
       "      <td>0</td>\n",
       "      <td>0</td>\n",
       "      <td>0.0000</td>\n",
       "      <td>0.000</td>\n",
       "      <td>0</td>\n",
       "      <td>val</td>\n",
       "      <td>6.2217</td>\n",
       "      <td>41.0416</td>\n",
       "      <td>0.5568</td>\n",
       "      <td>31.9265</td>\n",
       "      <td>1718.5701</td>\n",
       "      <td>31.4279</td>\n",
       "      <td>21</td>\n",
       "      <td>33.9753</td>\n",
       "      <td>2.2525</td>\n",
       "      <td>248</td>\n",
       "      <td>/storage/groups/ml01/code/andres.becker/master...</td>\n",
       "      <td>Xception_test2</td>\n",
       "    </tr>\n",
       "    <tr>\n",
       "      <th>47</th>\n",
       "      <td>Xception</td>\n",
       "      <td>huber</td>\n",
       "      <td>0.001</td>\n",
       "      <td>450</td>\n",
       "      <td>0</td>\n",
       "      <td>0</td>\n",
       "      <td>0.0000</td>\n",
       "      <td>0.000</td>\n",
       "      <td>0</td>\n",
       "      <td>val</td>\n",
       "      <td>6.2217</td>\n",
       "      <td>41.0416</td>\n",
       "      <td>0.5568</td>\n",
       "      <td>31.9265</td>\n",
       "      <td>1718.5701</td>\n",
       "      <td>31.4279</td>\n",
       "      <td>31</td>\n",
       "      <td>34.2062</td>\n",
       "      <td>2.5426</td>\n",
       "      <td>248</td>\n",
       "      <td>/storage/groups/ml01/code/andres.becker/master...</td>\n",
       "      <td>Xception_test2</td>\n",
       "    </tr>\n",
       "    <tr>\n",
       "      <th>161</th>\n",
       "      <td>Xception</td>\n",
       "      <td>huber</td>\n",
       "      <td>0.001</td>\n",
       "      <td>450</td>\n",
       "      <td>0</td>\n",
       "      <td>0</td>\n",
       "      <td>0.0000</td>\n",
       "      <td>0.000</td>\n",
       "      <td>1</td>\n",
       "      <td>val</td>\n",
       "      <td>11.4726</td>\n",
       "      <td>44.3642</td>\n",
       "      <td>0.4599</td>\n",
       "      <td>34.1139</td>\n",
       "      <td>2094.4859</td>\n",
       "      <td>33.6180</td>\n",
       "      <td>11</td>\n",
       "      <td>32.3624</td>\n",
       "      <td>1.9564</td>\n",
       "      <td>277</td>\n",
       "      <td>/storage/groups/ml01/code/andres.becker/master...</td>\n",
       "      <td>Xception</td>\n",
       "    </tr>\n",
       "    <tr>\n",
       "      <th>125</th>\n",
       "      <td>Xception</td>\n",
       "      <td>huber</td>\n",
       "      <td>0.001</td>\n",
       "      <td>450</td>\n",
       "      <td>0</td>\n",
       "      <td>0</td>\n",
       "      <td>0.0000</td>\n",
       "      <td>0.000</td>\n",
       "      <td>1</td>\n",
       "      <td>val</td>\n",
       "      <td>11.2742</td>\n",
       "      <td>43.3902</td>\n",
       "      <td>0.4830</td>\n",
       "      <td>34.1206</td>\n",
       "      <td>2004.7269</td>\n",
       "      <td>33.6232</td>\n",
       "      <td>11</td>\n",
       "      <td>33.5292</td>\n",
       "      <td>1.0396</td>\n",
       "      <td>392</td>\n",
       "      <td>/storage/groups/ml01/code/andres.becker/master...</td>\n",
       "      <td>Xception_control</td>\n",
       "    </tr>\n",
       "    <tr>\n",
       "      <th>131</th>\n",
       "      <td>Xception</td>\n",
       "      <td>huber</td>\n",
       "      <td>0.001</td>\n",
       "      <td>450</td>\n",
       "      <td>0</td>\n",
       "      <td>0</td>\n",
       "      <td>0.0000</td>\n",
       "      <td>0.000</td>\n",
       "      <td>1</td>\n",
       "      <td>val</td>\n",
       "      <td>11.2398</td>\n",
       "      <td>43.2415</td>\n",
       "      <td>0.4866</td>\n",
       "      <td>34.1534</td>\n",
       "      <td>1991.1080</td>\n",
       "      <td>33.6564</td>\n",
       "      <td>31</td>\n",
       "      <td>34.2581</td>\n",
       "      <td>2.4560</td>\n",
       "      <td>274</td>\n",
       "      <td>/storage/groups/ml01/code/andres.becker/master...</td>\n",
       "      <td>Xception_control</td>\n",
       "    </tr>\n",
       "    <tr>\n",
       "      <th>167</th>\n",
       "      <td>Xception</td>\n",
       "      <td>huber</td>\n",
       "      <td>0.001</td>\n",
       "      <td>450</td>\n",
       "      <td>0</td>\n",
       "      <td>0</td>\n",
       "      <td>0.0000</td>\n",
       "      <td>0.000</td>\n",
       "      <td>1</td>\n",
       "      <td>val</td>\n",
       "      <td>13.2045</td>\n",
       "      <td>42.5739</td>\n",
       "      <td>0.4889</td>\n",
       "      <td>34.1932</td>\n",
       "      <td>1981.9979</td>\n",
       "      <td>33.6978</td>\n",
       "      <td>31</td>\n",
       "      <td>34.0256</td>\n",
       "      <td>2.4007</td>\n",
       "      <td>358</td>\n",
       "      <td>/storage/groups/ml01/code/andres.becker/master...</td>\n",
       "      <td>Xception</td>\n",
       "    </tr>\n",
       "    <tr>\n",
       "      <th>179</th>\n",
       "      <td>Xception</td>\n",
       "      <td>mean_absolute_error</td>\n",
       "      <td>0.001</td>\n",
       "      <td>450</td>\n",
       "      <td>0</td>\n",
       "      <td>0</td>\n",
       "      <td>0.0001</td>\n",
       "      <td>0.001</td>\n",
       "      <td>1</td>\n",
       "      <td>val</td>\n",
       "      <td>9.9572</td>\n",
       "      <td>43.5906</td>\n",
       "      <td>0.4858</td>\n",
       "      <td>34.2849</td>\n",
       "      <td>1994.1472</td>\n",
       "      <td>33.7897</td>\n",
       "      <td>31</td>\n",
       "      <td>36.0227</td>\n",
       "      <td>3.6165</td>\n",
       "      <td>133</td>\n",
       "      <td>/storage/groups/ml01/code/andres.becker/master...</td>\n",
       "      <td>Xception_test1</td>\n",
       "    </tr>\n",
       "    <tr>\n",
       "      <th>41</th>\n",
       "      <td>Xception</td>\n",
       "      <td>huber</td>\n",
       "      <td>0.001</td>\n",
       "      <td>450</td>\n",
       "      <td>0</td>\n",
       "      <td>0</td>\n",
       "      <td>0.0000</td>\n",
       "      <td>0.000</td>\n",
       "      <td>0</td>\n",
       "      <td>val</td>\n",
       "      <td>12.6223</td>\n",
       "      <td>43.9886</td>\n",
       "      <td>0.4613</td>\n",
       "      <td>34.3690</td>\n",
       "      <td>2089.0902</td>\n",
       "      <td>33.8741</td>\n",
       "      <td>11</td>\n",
       "      <td>33.2830</td>\n",
       "      <td>1.6309</td>\n",
       "      <td>191</td>\n",
       "      <td>/storage/groups/ml01/code/andres.becker/master...</td>\n",
       "      <td>Xception_test2</td>\n",
       "    </tr>\n",
       "    <tr>\n",
       "      <th>128</th>\n",
       "      <td>Xception</td>\n",
       "      <td>huber</td>\n",
       "      <td>0.001</td>\n",
       "      <td>450</td>\n",
       "      <td>0</td>\n",
       "      <td>0</td>\n",
       "      <td>0.0000</td>\n",
       "      <td>0.000</td>\n",
       "      <td>1</td>\n",
       "      <td>val</td>\n",
       "      <td>1.2469</td>\n",
       "      <td>46.7038</td>\n",
       "      <td>0.4386</td>\n",
       "      <td>34.7195</td>\n",
       "      <td>2176.9073</td>\n",
       "      <td>34.2231</td>\n",
       "      <td>21</td>\n",
       "      <td>33.9322</td>\n",
       "      <td>1.4342</td>\n",
       "      <td>387</td>\n",
       "      <td>/storage/groups/ml01/code/andres.becker/master...</td>\n",
       "      <td>Xception_control</td>\n",
       "    </tr>\n",
       "    <tr>\n",
       "      <th>173</th>\n",
       "      <td>Xception</td>\n",
       "      <td>mean_absolute_error</td>\n",
       "      <td>0.001</td>\n",
       "      <td>450</td>\n",
       "      <td>0</td>\n",
       "      <td>0</td>\n",
       "      <td>0.0001</td>\n",
       "      <td>0.001</td>\n",
       "      <td>1</td>\n",
       "      <td>val</td>\n",
       "      <td>19.1509</td>\n",
       "      <td>42.4538</td>\n",
       "      <td>0.4419</td>\n",
       "      <td>35.9465</td>\n",
       "      <td>2164.2124</td>\n",
       "      <td>35.4492</td>\n",
       "      <td>11</td>\n",
       "      <td>34.7462</td>\n",
       "      <td>0.9064</td>\n",
       "      <td>414</td>\n",
       "      <td>/storage/groups/ml01/code/andres.becker/master...</td>\n",
       "      <td>Xception_test1</td>\n",
       "    </tr>\n",
       "    <tr>\n",
       "      <th>176</th>\n",
       "      <td>Xception</td>\n",
       "      <td>mean_absolute_error</td>\n",
       "      <td>0.001</td>\n",
       "      <td>450</td>\n",
       "      <td>0</td>\n",
       "      <td>0</td>\n",
       "      <td>0.0001</td>\n",
       "      <td>0.001</td>\n",
       "      <td>1</td>\n",
       "      <td>val</td>\n",
       "      <td>20.7775</td>\n",
       "      <td>41.8619</td>\n",
       "      <td>0.4380</td>\n",
       "      <td>36.7010</td>\n",
       "      <td>2179.3886</td>\n",
       "      <td>36.2059</td>\n",
       "      <td>21</td>\n",
       "      <td>35.5800</td>\n",
       "      <td>3.7856</td>\n",
       "      <td>134</td>\n",
       "      <td>/storage/groups/ml01/code/andres.becker/master...</td>\n",
       "      <td>Xception_test1</td>\n",
       "    </tr>\n",
       "  </tbody>\n",
       "</table>\n",
       "</div>"
      ],
      "text/plain": [
       "        Model                 Loss     lr  N_Epochs  Conv_L1_reg  Conv_L2_reg  \\\n",
       "158  Xception                huber  0.001       450            0            0   \n",
       "164  Xception                huber  0.001       450            0            0   \n",
       "38   Xception                huber  0.001       450            0            0   \n",
       "170  Xception  mean_absolute_error  0.001       450            0            0   \n",
       "122  Xception                huber  0.001       450            0            0   \n",
       "44   Xception                huber  0.001       450            0            0   \n",
       "47   Xception                huber  0.001       450            0            0   \n",
       "161  Xception                huber  0.001       450            0            0   \n",
       "125  Xception                huber  0.001       450            0            0   \n",
       "131  Xception                huber  0.001       450            0            0   \n",
       "167  Xception                huber  0.001       450            0            0   \n",
       "179  Xception  mean_absolute_error  0.001       450            0            0   \n",
       "41   Xception                huber  0.001       450            0            0   \n",
       "128  Xception                huber  0.001       450            0            0   \n",
       "173  Xception  mean_absolute_error  0.001       450            0            0   \n",
       "176  Xception  mean_absolute_error  0.001       450            0            0   \n",
       "\n",
       "     Dense_L1_reg  Dense_L2_reg  PreTrained  Set     Bias      Std      R2  \\\n",
       "158        0.0000         0.000           1  val   3.6691  39.2976  0.5994   \n",
       "164        0.0000         0.000           1  val   3.6691  39.2976  0.5994   \n",
       "38         0.0000         0.000           0  val   1.9758  40.7789  0.5713   \n",
       "170        0.0001         0.001           1  val   4.8500  40.6505  0.5690   \n",
       "122        0.0000         0.000           1  val   0.8852  41.6933  0.5527   \n",
       "44         0.0000         0.000           0  val   6.2217  41.0416  0.5568   \n",
       "47         0.0000         0.000           0  val   6.2217  41.0416  0.5568   \n",
       "161        0.0000         0.000           1  val  11.4726  44.3642  0.4599   \n",
       "125        0.0000         0.000           1  val  11.2742  43.3902  0.4830   \n",
       "131        0.0000         0.000           1  val  11.2398  43.2415  0.4866   \n",
       "167        0.0000         0.000           1  val  13.2045  42.5739  0.4889   \n",
       "179        0.0001         0.001           1  val   9.9572  43.5906  0.4858   \n",
       "41         0.0000         0.000           0  val  12.6223  43.9886  0.4613   \n",
       "128        0.0000         0.000           1  val   1.2469  46.7038  0.4386   \n",
       "173        0.0001         0.001           1  val  19.1509  42.4538  0.4419   \n",
       "176        0.0001         0.001           1  val  20.7775  41.8619  0.4380   \n",
       "\n",
       "         MAE        MSE    Huber  CMA_size      CMA  CMA_Std  Epoch  \\\n",
       "158  29.6838  1553.5901  29.1902         0  29.6838   0.0000    274   \n",
       "164  29.6838  1553.5901  29.1902        21  33.8687   3.0378    274   \n",
       "38   30.8244  1662.3310  30.3288         0  30.8244   0.0000    142   \n",
       "170  31.0957  1671.5178  30.5983         0  31.0957   0.0000    121   \n",
       "122  31.4630  1734.4144  30.9654         0  31.4630   0.0000    273   \n",
       "44   31.9265  1718.5701  31.4279        21  33.9753   2.2525    248   \n",
       "47   31.9265  1718.5701  31.4279        31  34.2062   2.5426    248   \n",
       "161  34.1139  2094.4859  33.6180        11  32.3624   1.9564    277   \n",
       "125  34.1206  2004.7269  33.6232        11  33.5292   1.0396    392   \n",
       "131  34.1534  1991.1080  33.6564        31  34.2581   2.4560    274   \n",
       "167  34.1932  1981.9979  33.6978        31  34.0256   2.4007    358   \n",
       "179  34.2849  1994.1472  33.7897        31  36.0227   3.6165    133   \n",
       "41   34.3690  2089.0902  33.8741        11  33.2830   1.6309    191   \n",
       "128  34.7195  2176.9073  34.2231        21  33.9322   1.4342    387   \n",
       "173  35.9465  2164.2124  35.4492        11  34.7462   0.9064    414   \n",
       "176  36.7010  2179.3886  36.2059        21  35.5800   3.7856    134   \n",
       "\n",
       "                                  Parameters_file_path    Parameter_file  \n",
       "158  /storage/groups/ml01/code/andres.becker/master...          Xception  \n",
       "164  /storage/groups/ml01/code/andres.becker/master...          Xception  \n",
       "38   /storage/groups/ml01/code/andres.becker/master...    Xception_test2  \n",
       "170  /storage/groups/ml01/code/andres.becker/master...    Xception_test1  \n",
       "122  /storage/groups/ml01/code/andres.becker/master...  Xception_control  \n",
       "44   /storage/groups/ml01/code/andres.becker/master...    Xception_test2  \n",
       "47   /storage/groups/ml01/code/andres.becker/master...    Xception_test2  \n",
       "161  /storage/groups/ml01/code/andres.becker/master...          Xception  \n",
       "125  /storage/groups/ml01/code/andres.becker/master...  Xception_control  \n",
       "131  /storage/groups/ml01/code/andres.becker/master...  Xception_control  \n",
       "167  /storage/groups/ml01/code/andres.becker/master...          Xception  \n",
       "179  /storage/groups/ml01/code/andres.becker/master...    Xception_test1  \n",
       "41   /storage/groups/ml01/code/andres.becker/master...    Xception_test2  \n",
       "128  /storage/groups/ml01/code/andres.becker/master...  Xception_control  \n",
       "173  /storage/groups/ml01/code/andres.becker/master...    Xception_test1  \n",
       "176  /storage/groups/ml01/code/andres.becker/master...    Xception_test1  "
      ]
     },
     "execution_count": 8,
     "metadata": {},
     "output_type": "execute_result"
    }
   ],
   "source": [
    "mask = (model_metrics_df.Set == 'val') & (model_metrics_df.Model == 'Xception') #& (model_metrics_df.CMA_size == 0)\n",
    "model_metrics_df[mask].sort_values(by=['MAE', 'Bias', 'Std'])"
   ]
  },
  {
   "cell_type": "code",
   "execution_count": null,
   "metadata": {},
   "outputs": [],
   "source": []
  }
 ],
 "metadata": {
  "kernelspec": {
   "display_name": "Python 3",
   "language": "python",
   "name": "python3"
  },
  "language_info": {
   "codemirror_mode": {
    "name": "ipython",
    "version": 3
   },
   "file_extension": ".py",
   "mimetype": "text/x-python",
   "name": "python",
   "nbconvert_exporter": "python",
   "pygments_lexer": "ipython3",
   "version": "3.8.5"
  }
 },
 "nbformat": 4,
 "nbformat_minor": 4
}
